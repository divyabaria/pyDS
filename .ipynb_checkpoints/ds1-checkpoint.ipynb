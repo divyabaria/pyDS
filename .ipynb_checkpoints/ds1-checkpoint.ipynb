{
 "cells": [
  {
   "cell_type": "markdown",
   "metadata": {},
   "source": [
    "# Project: Investigate a Dataset (No-show appointments)\n",
    "\n",
    "## Table of Contents\n",
    "\n",
    "    * Introduction\n",
    "    * Data Wrangling\n",
    "    * Exploratory Data Analysis\n",
    "    * Conclusions\n",
    "    \n",
    "    \n",
    "## Introduction\n",
    "\n",
    "    In this section of the report, I'll provide a brief introduction to the dataset I've selected for analysis. At the end of this section, I wil describe the questions that I plan on exploring over the course of the report.\n",
    "    \n",
    "    Introduction to dataset:\n",
    "        \n",
    "    I will be using No-show appointments dataset. This dataset collects information from 100k medical appointments in Brazil and is focused on the question of whether or not patients show up for their appointment. \n",
    "        \n",
    "           "
   ]
  },
  {
   "cell_type": "markdown",
   "metadata": {},
   "source": [
    "## Required Packages"
   ]
  },
  {
   "cell_type": "code",
   "execution_count": 2,
   "metadata": {},
   "outputs": [],
   "source": [
    "import pandas as pd\n",
    "import numpy as np\n",
    "import matplotlib.pyplot as plt\n",
    "import seaborn as sns\n",
    "%matplotlib inline"
   ]
  },
  {
   "cell_type": "markdown",
   "metadata": {},
   "source": [
    "## Loading data using Pandas\n",
    "\n",
    "Let's load the data and check some rows from the dataset to identify the questions that can be answered:"
   ]
  },
  {
   "cell_type": "code",
   "execution_count": 3,
   "metadata": {},
   "outputs": [
    {
     "data": {
      "text/html": [
       "<div>\n",
       "<style scoped>\n",
       "    .dataframe tbody tr th:only-of-type {\n",
       "        vertical-align: middle;\n",
       "    }\n",
       "\n",
       "    .dataframe tbody tr th {\n",
       "        vertical-align: top;\n",
       "    }\n",
       "\n",
       "    .dataframe thead th {\n",
       "        text-align: right;\n",
       "    }\n",
       "</style>\n",
       "<table border=\"1\" class=\"dataframe\">\n",
       "  <thead>\n",
       "    <tr style=\"text-align: right;\">\n",
       "      <th></th>\n",
       "      <th>PatientId</th>\n",
       "      <th>AppointmentID</th>\n",
       "      <th>Gender</th>\n",
       "      <th>ScheduledDay</th>\n",
       "      <th>AppointmentDay</th>\n",
       "      <th>Age</th>\n",
       "      <th>Neighbourhood</th>\n",
       "      <th>Scholarship</th>\n",
       "      <th>Hipertension</th>\n",
       "      <th>Diabetes</th>\n",
       "      <th>Alcoholism</th>\n",
       "      <th>Handcap</th>\n",
       "      <th>SMS_received</th>\n",
       "      <th>No-show</th>\n",
       "    </tr>\n",
       "  </thead>\n",
       "  <tbody>\n",
       "    <tr>\n",
       "      <th>0</th>\n",
       "      <td>2.987250e+13</td>\n",
       "      <td>5642903</td>\n",
       "      <td>F</td>\n",
       "      <td>2016-04-29T18:38:08Z</td>\n",
       "      <td>2016-04-29T00:00:00Z</td>\n",
       "      <td>62</td>\n",
       "      <td>JARDIM DA PENHA</td>\n",
       "      <td>0</td>\n",
       "      <td>1</td>\n",
       "      <td>0</td>\n",
       "      <td>0</td>\n",
       "      <td>0</td>\n",
       "      <td>0</td>\n",
       "      <td>No</td>\n",
       "    </tr>\n",
       "    <tr>\n",
       "      <th>1</th>\n",
       "      <td>5.589978e+14</td>\n",
       "      <td>5642503</td>\n",
       "      <td>M</td>\n",
       "      <td>2016-04-29T16:08:27Z</td>\n",
       "      <td>2016-04-29T00:00:00Z</td>\n",
       "      <td>56</td>\n",
       "      <td>JARDIM DA PENHA</td>\n",
       "      <td>0</td>\n",
       "      <td>0</td>\n",
       "      <td>0</td>\n",
       "      <td>0</td>\n",
       "      <td>0</td>\n",
       "      <td>0</td>\n",
       "      <td>No</td>\n",
       "    </tr>\n",
       "    <tr>\n",
       "      <th>2</th>\n",
       "      <td>4.262962e+12</td>\n",
       "      <td>5642549</td>\n",
       "      <td>F</td>\n",
       "      <td>2016-04-29T16:19:04Z</td>\n",
       "      <td>2016-04-29T00:00:00Z</td>\n",
       "      <td>62</td>\n",
       "      <td>MATA DA PRAIA</td>\n",
       "      <td>0</td>\n",
       "      <td>0</td>\n",
       "      <td>0</td>\n",
       "      <td>0</td>\n",
       "      <td>0</td>\n",
       "      <td>0</td>\n",
       "      <td>No</td>\n",
       "    </tr>\n",
       "    <tr>\n",
       "      <th>3</th>\n",
       "      <td>8.679512e+11</td>\n",
       "      <td>5642828</td>\n",
       "      <td>F</td>\n",
       "      <td>2016-04-29T17:29:31Z</td>\n",
       "      <td>2016-04-29T00:00:00Z</td>\n",
       "      <td>8</td>\n",
       "      <td>PONTAL DE CAMBURI</td>\n",
       "      <td>0</td>\n",
       "      <td>0</td>\n",
       "      <td>0</td>\n",
       "      <td>0</td>\n",
       "      <td>0</td>\n",
       "      <td>0</td>\n",
       "      <td>No</td>\n",
       "    </tr>\n",
       "    <tr>\n",
       "      <th>4</th>\n",
       "      <td>8.841186e+12</td>\n",
       "      <td>5642494</td>\n",
       "      <td>F</td>\n",
       "      <td>2016-04-29T16:07:23Z</td>\n",
       "      <td>2016-04-29T00:00:00Z</td>\n",
       "      <td>56</td>\n",
       "      <td>JARDIM DA PENHA</td>\n",
       "      <td>0</td>\n",
       "      <td>1</td>\n",
       "      <td>1</td>\n",
       "      <td>0</td>\n",
       "      <td>0</td>\n",
       "      <td>0</td>\n",
       "      <td>No</td>\n",
       "    </tr>\n",
       "  </tbody>\n",
       "</table>\n",
       "</div>"
      ],
      "text/plain": [
       "      PatientId  AppointmentID Gender          ScheduledDay  \\\n",
       "0  2.987250e+13        5642903      F  2016-04-29T18:38:08Z   \n",
       "1  5.589978e+14        5642503      M  2016-04-29T16:08:27Z   \n",
       "2  4.262962e+12        5642549      F  2016-04-29T16:19:04Z   \n",
       "3  8.679512e+11        5642828      F  2016-04-29T17:29:31Z   \n",
       "4  8.841186e+12        5642494      F  2016-04-29T16:07:23Z   \n",
       "\n",
       "         AppointmentDay  Age      Neighbourhood  Scholarship  Hipertension  \\\n",
       "0  2016-04-29T00:00:00Z   62    JARDIM DA PENHA            0             1   \n",
       "1  2016-04-29T00:00:00Z   56    JARDIM DA PENHA            0             0   \n",
       "2  2016-04-29T00:00:00Z   62      MATA DA PRAIA            0             0   \n",
       "3  2016-04-29T00:00:00Z    8  PONTAL DE CAMBURI            0             0   \n",
       "4  2016-04-29T00:00:00Z   56    JARDIM DA PENHA            0             1   \n",
       "\n",
       "   Diabetes  Alcoholism  Handcap  SMS_received No-show  \n",
       "0         0           0        0             0      No  \n",
       "1         0           0        0             0      No  \n",
       "2         0           0        0             0      No  \n",
       "3         0           0        0             0      No  \n",
       "4         1           0        0             0      No  "
      ]
     },
     "execution_count": 3,
     "metadata": {},
     "output_type": "execute_result"
    }
   ],
   "source": [
    "#Read CSV\n",
    "noshowdata = pd.read_csv('D:/pythonDataAnalysis/jypterDS/noshowappointments-kagglev2-may-2016.csv')\n",
    "noshowdata.head()"
   ]
  },
  {
   "cell_type": "markdown",
   "metadata": {},
   "source": [
    "It consist of 14 columns such as PatientId, AppointmentID, Gender, ScheduledDay, AppointmentDay etc.\n",
    "\n",
    "Questions that can be answered by looking at the datasets are:\n",
    "\n",
    "Some general questions that can be answered are:\n",
    "\n",
    "    1) Number of Appointments per patients?\n",
    "    2) How Gender effects no-show?\n",
    "        2.1) Total number of gender\n",
    "        2.2) Total number of Male and Female\n",
    "        2.3) Total number of gender that show and not-show for the appointments\n",
    "    3) Overview on all aspects of no-show?\n",
    "    4) How neighbourhood effects no-show?\n",
    "    5) How weekdays effects no-show?\n",
    "    6) How many with scholarship no-show for the appointment?\n",
    "    7) Number of Patients Types that have showed-up for the appointment?\n",
    "    8) How age effects no-show\n",
    "    9) Appointments of PatientTypes with respect to Age\n",
    "        9.1) Appointments by Date\n",
    "        9.2) Appointments of patients with Hypertension with respect to Age\n",
    "        9.3) Appointments of patients with Diabetes with respect to Age\n",
    "        9.4) Appointments of patients with Alcoholism with respect to Age\n",
    "        9.5) Appointments of patients with Handicap with respect to Age"
   ]
  },
  {
   "cell_type": "markdown",
   "metadata": {},
   "source": [
    "# Data Wrangling\n",
    "\n",
    "In this section of the report, I will check for cleanliness, and then trim and clean my dataset for analysis."
   ]
  },
  {
   "cell_type": "markdown",
   "metadata": {},
   "source": [
    "## General Properties\n",
    "Let's check the dataset and see what cleaning does it requires."
   ]
  },
  {
   "cell_type": "code",
   "execution_count": 102,
   "metadata": {},
   "outputs": [
    {
     "data": {
      "text/html": [
       "<div>\n",
       "<style scoped>\n",
       "    .dataframe tbody tr th:only-of-type {\n",
       "        vertical-align: middle;\n",
       "    }\n",
       "\n",
       "    .dataframe tbody tr th {\n",
       "        vertical-align: top;\n",
       "    }\n",
       "\n",
       "    .dataframe thead th {\n",
       "        text-align: right;\n",
       "    }\n",
       "</style>\n",
       "<table border=\"1\" class=\"dataframe\">\n",
       "  <thead>\n",
       "    <tr style=\"text-align: right;\">\n",
       "      <th></th>\n",
       "      <th>PatientId</th>\n",
       "      <th>AppointmentID</th>\n",
       "      <th>Gender</th>\n",
       "      <th>ScheduledDay</th>\n",
       "      <th>AppointmentDay</th>\n",
       "      <th>Age</th>\n",
       "      <th>Neighbourhood</th>\n",
       "      <th>Scholarship</th>\n",
       "      <th>Hipertension</th>\n",
       "      <th>Diabetes</th>\n",
       "      <th>Alcoholism</th>\n",
       "      <th>Handcap</th>\n",
       "      <th>SMS_received</th>\n",
       "      <th>No-show</th>\n",
       "    </tr>\n",
       "  </thead>\n",
       "  <tbody>\n",
       "    <tr>\n",
       "      <th>0</th>\n",
       "      <td>2.987250e+13</td>\n",
       "      <td>5642903</td>\n",
       "      <td>F</td>\n",
       "      <td>2016-04-29 18:38:08</td>\n",
       "      <td>2016-04-29</td>\n",
       "      <td>62</td>\n",
       "      <td>JARDIM DA PENHA</td>\n",
       "      <td>0</td>\n",
       "      <td>1</td>\n",
       "      <td>0</td>\n",
       "      <td>0</td>\n",
       "      <td>0</td>\n",
       "      <td>0</td>\n",
       "      <td>No</td>\n",
       "    </tr>\n",
       "    <tr>\n",
       "      <th>1</th>\n",
       "      <td>5.589978e+14</td>\n",
       "      <td>5642503</td>\n",
       "      <td>M</td>\n",
       "      <td>2016-04-29 16:08:27</td>\n",
       "      <td>2016-04-29</td>\n",
       "      <td>56</td>\n",
       "      <td>JARDIM DA PENHA</td>\n",
       "      <td>0</td>\n",
       "      <td>0</td>\n",
       "      <td>0</td>\n",
       "      <td>0</td>\n",
       "      <td>0</td>\n",
       "      <td>0</td>\n",
       "      <td>No</td>\n",
       "    </tr>\n",
       "    <tr>\n",
       "      <th>2</th>\n",
       "      <td>4.262962e+12</td>\n",
       "      <td>5642549</td>\n",
       "      <td>F</td>\n",
       "      <td>2016-04-29 16:19:04</td>\n",
       "      <td>2016-04-29</td>\n",
       "      <td>62</td>\n",
       "      <td>MATA DA PRAIA</td>\n",
       "      <td>0</td>\n",
       "      <td>0</td>\n",
       "      <td>0</td>\n",
       "      <td>0</td>\n",
       "      <td>0</td>\n",
       "      <td>0</td>\n",
       "      <td>No</td>\n",
       "    </tr>\n",
       "    <tr>\n",
       "      <th>3</th>\n",
       "      <td>8.679512e+11</td>\n",
       "      <td>5642828</td>\n",
       "      <td>F</td>\n",
       "      <td>2016-04-29 17:29:31</td>\n",
       "      <td>2016-04-29</td>\n",
       "      <td>8</td>\n",
       "      <td>PONTAL DE CAMBURI</td>\n",
       "      <td>0</td>\n",
       "      <td>0</td>\n",
       "      <td>0</td>\n",
       "      <td>0</td>\n",
       "      <td>0</td>\n",
       "      <td>0</td>\n",
       "      <td>No</td>\n",
       "    </tr>\n",
       "    <tr>\n",
       "      <th>4</th>\n",
       "      <td>8.841186e+12</td>\n",
       "      <td>5642494</td>\n",
       "      <td>F</td>\n",
       "      <td>2016-04-29 16:07:23</td>\n",
       "      <td>2016-04-29</td>\n",
       "      <td>56</td>\n",
       "      <td>JARDIM DA PENHA</td>\n",
       "      <td>0</td>\n",
       "      <td>1</td>\n",
       "      <td>1</td>\n",
       "      <td>0</td>\n",
       "      <td>0</td>\n",
       "      <td>0</td>\n",
       "      <td>No</td>\n",
       "    </tr>\n",
       "  </tbody>\n",
       "</table>\n",
       "</div>"
      ],
      "text/plain": [
       "      PatientId  AppointmentID Gender        ScheduledDay AppointmentDay  Age  \\\n",
       "0  2.987250e+13        5642903      F 2016-04-29 18:38:08     2016-04-29   62   \n",
       "1  5.589978e+14        5642503      M 2016-04-29 16:08:27     2016-04-29   56   \n",
       "2  4.262962e+12        5642549      F 2016-04-29 16:19:04     2016-04-29   62   \n",
       "3  8.679512e+11        5642828      F 2016-04-29 17:29:31     2016-04-29    8   \n",
       "4  8.841186e+12        5642494      F 2016-04-29 16:07:23     2016-04-29   56   \n",
       "\n",
       "       Neighbourhood  Scholarship  Hipertension  Diabetes  Alcoholism  \\\n",
       "0    JARDIM DA PENHA            0             1         0           0   \n",
       "1    JARDIM DA PENHA            0             0         0           0   \n",
       "2      MATA DA PRAIA            0             0         0           0   \n",
       "3  PONTAL DE CAMBURI            0             0         0           0   \n",
       "4    JARDIM DA PENHA            0             1         1           0   \n",
       "\n",
       "   Handcap  SMS_received No-show  \n",
       "0        0             0      No  \n",
       "1        0             0      No  \n",
       "2        0             0      No  \n",
       "3        0             0      No  \n",
       "4        0             0      No  "
      ]
     },
     "execution_count": 102,
     "metadata": {},
     "output_type": "execute_result"
    }
   ],
   "source": [
    "#Prints first 5 rows from the given data\n",
    "noshowdata.head()"
   ]
  },
  {
   "cell_type": "code",
   "execution_count": 103,
   "metadata": {},
   "outputs": [
    {
     "data": {
      "text/html": [
       "<div>\n",
       "<style scoped>\n",
       "    .dataframe tbody tr th:only-of-type {\n",
       "        vertical-align: middle;\n",
       "    }\n",
       "\n",
       "    .dataframe tbody tr th {\n",
       "        vertical-align: top;\n",
       "    }\n",
       "\n",
       "    .dataframe thead th {\n",
       "        text-align: right;\n",
       "    }\n",
       "</style>\n",
       "<table border=\"1\" class=\"dataframe\">\n",
       "  <thead>\n",
       "    <tr style=\"text-align: right;\">\n",
       "      <th></th>\n",
       "      <th>PatientId</th>\n",
       "      <th>AppointmentID</th>\n",
       "      <th>Age</th>\n",
       "      <th>Scholarship</th>\n",
       "      <th>Hipertension</th>\n",
       "      <th>Diabetes</th>\n",
       "      <th>Alcoholism</th>\n",
       "      <th>Handcap</th>\n",
       "      <th>SMS_received</th>\n",
       "    </tr>\n",
       "  </thead>\n",
       "  <tbody>\n",
       "    <tr>\n",
       "      <th>count</th>\n",
       "      <td>1.105270e+05</td>\n",
       "      <td>1.105270e+05</td>\n",
       "      <td>110527.000000</td>\n",
       "      <td>110527.000000</td>\n",
       "      <td>110527.000000</td>\n",
       "      <td>110527.000000</td>\n",
       "      <td>110527.000000</td>\n",
       "      <td>110527.000000</td>\n",
       "      <td>110527.000000</td>\n",
       "    </tr>\n",
       "    <tr>\n",
       "      <th>mean</th>\n",
       "      <td>1.474963e+14</td>\n",
       "      <td>5.675305e+06</td>\n",
       "      <td>37.088874</td>\n",
       "      <td>0.098266</td>\n",
       "      <td>0.197246</td>\n",
       "      <td>0.071865</td>\n",
       "      <td>0.030400</td>\n",
       "      <td>0.022248</td>\n",
       "      <td>0.321026</td>\n",
       "    </tr>\n",
       "    <tr>\n",
       "      <th>std</th>\n",
       "      <td>2.560949e+14</td>\n",
       "      <td>7.129575e+04</td>\n",
       "      <td>23.110205</td>\n",
       "      <td>0.297675</td>\n",
       "      <td>0.397921</td>\n",
       "      <td>0.258265</td>\n",
       "      <td>0.171686</td>\n",
       "      <td>0.161543</td>\n",
       "      <td>0.466873</td>\n",
       "    </tr>\n",
       "    <tr>\n",
       "      <th>min</th>\n",
       "      <td>3.921784e+04</td>\n",
       "      <td>5.030230e+06</td>\n",
       "      <td>-1.000000</td>\n",
       "      <td>0.000000</td>\n",
       "      <td>0.000000</td>\n",
       "      <td>0.000000</td>\n",
       "      <td>0.000000</td>\n",
       "      <td>0.000000</td>\n",
       "      <td>0.000000</td>\n",
       "    </tr>\n",
       "    <tr>\n",
       "      <th>25%</th>\n",
       "      <td>4.172614e+12</td>\n",
       "      <td>5.640286e+06</td>\n",
       "      <td>18.000000</td>\n",
       "      <td>0.000000</td>\n",
       "      <td>0.000000</td>\n",
       "      <td>0.000000</td>\n",
       "      <td>0.000000</td>\n",
       "      <td>0.000000</td>\n",
       "      <td>0.000000</td>\n",
       "    </tr>\n",
       "    <tr>\n",
       "      <th>50%</th>\n",
       "      <td>3.173184e+13</td>\n",
       "      <td>5.680573e+06</td>\n",
       "      <td>37.000000</td>\n",
       "      <td>0.000000</td>\n",
       "      <td>0.000000</td>\n",
       "      <td>0.000000</td>\n",
       "      <td>0.000000</td>\n",
       "      <td>0.000000</td>\n",
       "      <td>0.000000</td>\n",
       "    </tr>\n",
       "    <tr>\n",
       "      <th>75%</th>\n",
       "      <td>9.439172e+13</td>\n",
       "      <td>5.725524e+06</td>\n",
       "      <td>55.000000</td>\n",
       "      <td>0.000000</td>\n",
       "      <td>0.000000</td>\n",
       "      <td>0.000000</td>\n",
       "      <td>0.000000</td>\n",
       "      <td>0.000000</td>\n",
       "      <td>1.000000</td>\n",
       "    </tr>\n",
       "    <tr>\n",
       "      <th>max</th>\n",
       "      <td>9.999816e+14</td>\n",
       "      <td>5.790484e+06</td>\n",
       "      <td>115.000000</td>\n",
       "      <td>1.000000</td>\n",
       "      <td>1.000000</td>\n",
       "      <td>1.000000</td>\n",
       "      <td>1.000000</td>\n",
       "      <td>4.000000</td>\n",
       "      <td>1.000000</td>\n",
       "    </tr>\n",
       "  </tbody>\n",
       "</table>\n",
       "</div>"
      ],
      "text/plain": [
       "          PatientId  AppointmentID            Age    Scholarship  \\\n",
       "count  1.105270e+05   1.105270e+05  110527.000000  110527.000000   \n",
       "mean   1.474963e+14   5.675305e+06      37.088874       0.098266   \n",
       "std    2.560949e+14   7.129575e+04      23.110205       0.297675   \n",
       "min    3.921784e+04   5.030230e+06      -1.000000       0.000000   \n",
       "25%    4.172614e+12   5.640286e+06      18.000000       0.000000   \n",
       "50%    3.173184e+13   5.680573e+06      37.000000       0.000000   \n",
       "75%    9.439172e+13   5.725524e+06      55.000000       0.000000   \n",
       "max    9.999816e+14   5.790484e+06     115.000000       1.000000   \n",
       "\n",
       "        Hipertension       Diabetes     Alcoholism        Handcap  \\\n",
       "count  110527.000000  110527.000000  110527.000000  110527.000000   \n",
       "mean        0.197246       0.071865       0.030400       0.022248   \n",
       "std         0.397921       0.258265       0.171686       0.161543   \n",
       "min         0.000000       0.000000       0.000000       0.000000   \n",
       "25%         0.000000       0.000000       0.000000       0.000000   \n",
       "50%         0.000000       0.000000       0.000000       0.000000   \n",
       "75%         0.000000       0.000000       0.000000       0.000000   \n",
       "max         1.000000       1.000000       1.000000       4.000000   \n",
       "\n",
       "        SMS_received  \n",
       "count  110527.000000  \n",
       "mean        0.321026  \n",
       "std         0.466873  \n",
       "min         0.000000  \n",
       "25%         0.000000  \n",
       "50%         0.000000  \n",
       "75%         1.000000  \n",
       "max         1.000000  "
      ]
     },
     "execution_count": 103,
     "metadata": {},
     "output_type": "execute_result"
    }
   ],
   "source": [
    "#Basic statistics for the dataset\n",
    "noshowdata.describe()"
   ]
  },
  {
   "cell_type": "code",
   "execution_count": 104,
   "metadata": {},
   "outputs": [
    {
     "name": "stdout",
     "output_type": "stream",
     "text": [
      "<class 'pandas.core.frame.DataFrame'>\n",
      "RangeIndex: 110527 entries, 0 to 110526\n",
      "Data columns (total 14 columns):\n",
      "PatientId         110527 non-null float64\n",
      "AppointmentID     110527 non-null int64\n",
      "Gender            110527 non-null object\n",
      "ScheduledDay      110527 non-null datetime64[ns]\n",
      "AppointmentDay    110527 non-null datetime64[ns]\n",
      "Age               110527 non-null int64\n",
      "Neighbourhood     110527 non-null object\n",
      "Scholarship       110527 non-null int64\n",
      "Hipertension      110527 non-null int64\n",
      "Diabetes          110527 non-null int64\n",
      "Alcoholism        110527 non-null int64\n",
      "Handcap           110527 non-null int64\n",
      "SMS_received      110527 non-null int64\n",
      "No-show           110527 non-null object\n",
      "dtypes: datetime64[ns](2), float64(1), int64(8), object(3)\n",
      "memory usage: 11.8+ MB\n"
     ]
    }
   ],
   "source": [
    "# Basic Information to check the datatypes\n",
    "noshowdata.info()"
   ]
  },
  {
   "cell_type": "markdown",
   "metadata": {},
   "source": [
    "### Unique Values in Data"
   ]
  },
  {
   "cell_type": "code",
   "execution_count": 4,
   "metadata": {},
   "outputs": [
    {
     "name": "stdout",
     "output_type": "stream",
     "text": [
      "PatientId          62299\n",
      "AppointmentID     110527\n",
      "Gender                 2\n",
      "ScheduledDay      103549\n",
      "AppointmentDay        27\n",
      "Age                  104\n",
      "Neighbourhood         81\n",
      "Scholarship            2\n",
      "Hipertension           2\n",
      "Diabetes               2\n",
      "Alcoholism             2\n",
      "Handcap                5\n",
      "SMS_received           2\n",
      "No-show                2\n",
      "dtype: int64\n"
     ]
    }
   ],
   "source": [
    "#unique values\n",
    "noshow_unique_values = noshowdata.apply(lambda x: len(x.unique()))\n",
    "print(noshow_unique_values)"
   ]
  },
  {
   "cell_type": "markdown",
   "metadata": {},
   "source": [
    "### Finding Missing Values"
   ]
  },
  {
   "cell_type": "code",
   "execution_count": 5,
   "metadata": {},
   "outputs": [
    {
     "name": "stdout",
     "output_type": "stream",
     "text": [
      "PatientId         0\n",
      "AppointmentID     0\n",
      "Gender            0\n",
      "ScheduledDay      0\n",
      "AppointmentDay    0\n",
      "Age               0\n",
      "Neighbourhood     0\n",
      "Scholarship       0\n",
      "Hipertension      0\n",
      "Diabetes          0\n",
      "Alcoholism        0\n",
      "Handcap           0\n",
      "SMS_received      0\n",
      "No-show           0\n",
      "dtype: int64\n"
     ]
    }
   ],
   "source": [
    "#check missing columns\n",
    "noshowdata_missing_values = noshowdata.apply(lambda x: sum(x.isnull()))\n",
    "print(noshowdata_missing_values)"
   ]
  },
  {
   "cell_type": "markdown",
   "metadata": {},
   "source": [
    "#### Cleaning that needs to be prformed by looking at above data:\n",
    "\n",
    "    1) 'ScheduledDay' & 'AppointmentDay' columns must be converted into date format.\n",
    "    2) Remove column 'SMS'\n",
    "    3) Convert 'Gender' and 'No-show' columns to int datatype. This we will be achieving by the following:\n",
    "            In Gender column replace 'M' to 1 & 'F' to 0\n",
    "            Similarly, in 'No-show' column replace 'Yes' to 1 & 'No' to 0            \n",
    "            This change will help us in graphical representation.\n",
    "            \n",
    "    4) Change the column names with in-correct spelling\n",
    "            'PatientId':'Patient_ID',\n",
    "            'AppointmentID':'Appointment_ID',\n",
    "            'Hipertension':'Hypertension',\n",
    "            'Handcap':'Handicap'"
   ]
  },
  {
   "cell_type": "markdown",
   "metadata": {},
   "source": [
    "## Data Cleaning (Lets us perform all the steps that are discussed above for cleaning)\n",
    "\n",
    "#### 1) 'ScheduledDay' & 'AppointmentDay' columns must be converted into date format."
   ]
  },
  {
   "cell_type": "code",
   "execution_count": 7,
   "metadata": {},
   "outputs": [
    {
     "name": "stdout",
     "output_type": "stream",
     "text": [
      "<class 'pandas.core.frame.DataFrame'>\n",
      "RangeIndex: 110527 entries, 0 to 110526\n",
      "Data columns (total 14 columns):\n",
      "PatientId         110527 non-null float64\n",
      "AppointmentID     110527 non-null int64\n",
      "Gender            110527 non-null object\n",
      "ScheduledDay      110527 non-null datetime64[ns]\n",
      "AppointmentDay    110527 non-null datetime64[ns]\n",
      "Age               110527 non-null int64\n",
      "Neighbourhood     110527 non-null object\n",
      "Scholarship       110527 non-null int64\n",
      "Hipertension      110527 non-null int64\n",
      "Diabetes          110527 non-null int64\n",
      "Alcoholism        110527 non-null int64\n",
      "Handcap           110527 non-null int64\n",
      "SMS_received      110527 non-null int64\n",
      "No-show           110527 non-null object\n",
      "dtypes: datetime64[ns](2), float64(1), int64(8), object(3)\n",
      "memory usage: 11.8+ MB\n"
     ]
    }
   ],
   "source": [
    "noshowdata['ScheduledDay'] = pd.to_datetime(noshowdata['ScheduledDay'])\n",
    "noshowdata['AppointmentDay'] = pd.to_datetime(noshowdata['AppointmentDay'])\n",
    "noshowdata.info()"
   ]
  },
  {
   "cell_type": "markdown",
   "metadata": {},
   "source": [
    "#### 2) Let's, Remove column 'SMS'"
   ]
  },
  {
   "cell_type": "code",
   "execution_count": 9,
   "metadata": {},
   "outputs": [
    {
     "data": {
      "text/html": [
       "<div>\n",
       "<style scoped>\n",
       "    .dataframe tbody tr th:only-of-type {\n",
       "        vertical-align: middle;\n",
       "    }\n",
       "\n",
       "    .dataframe tbody tr th {\n",
       "        vertical-align: top;\n",
       "    }\n",
       "\n",
       "    .dataframe thead th {\n",
       "        text-align: right;\n",
       "    }\n",
       "</style>\n",
       "<table border=\"1\" class=\"dataframe\">\n",
       "  <thead>\n",
       "    <tr style=\"text-align: right;\">\n",
       "      <th></th>\n",
       "      <th>PatientId</th>\n",
       "      <th>AppointmentID</th>\n",
       "      <th>Gender</th>\n",
       "      <th>ScheduledDay</th>\n",
       "      <th>AppointmentDay</th>\n",
       "      <th>Age</th>\n",
       "      <th>Neighbourhood</th>\n",
       "      <th>Scholarship</th>\n",
       "      <th>Hipertension</th>\n",
       "      <th>Diabetes</th>\n",
       "      <th>Alcoholism</th>\n",
       "      <th>Handcap</th>\n",
       "      <th>No-show</th>\n",
       "    </tr>\n",
       "  </thead>\n",
       "  <tbody>\n",
       "    <tr>\n",
       "      <th>0</th>\n",
       "      <td>2.987250e+13</td>\n",
       "      <td>5642903</td>\n",
       "      <td>F</td>\n",
       "      <td>2016-04-29 18:38:08</td>\n",
       "      <td>2016-04-29</td>\n",
       "      <td>62</td>\n",
       "      <td>JARDIM DA PENHA</td>\n",
       "      <td>0</td>\n",
       "      <td>1</td>\n",
       "      <td>0</td>\n",
       "      <td>0</td>\n",
       "      <td>0</td>\n",
       "      <td>No</td>\n",
       "    </tr>\n",
       "    <tr>\n",
       "      <th>1</th>\n",
       "      <td>5.589978e+14</td>\n",
       "      <td>5642503</td>\n",
       "      <td>M</td>\n",
       "      <td>2016-04-29 16:08:27</td>\n",
       "      <td>2016-04-29</td>\n",
       "      <td>56</td>\n",
       "      <td>JARDIM DA PENHA</td>\n",
       "      <td>0</td>\n",
       "      <td>0</td>\n",
       "      <td>0</td>\n",
       "      <td>0</td>\n",
       "      <td>0</td>\n",
       "      <td>No</td>\n",
       "    </tr>\n",
       "    <tr>\n",
       "      <th>2</th>\n",
       "      <td>4.262962e+12</td>\n",
       "      <td>5642549</td>\n",
       "      <td>F</td>\n",
       "      <td>2016-04-29 16:19:04</td>\n",
       "      <td>2016-04-29</td>\n",
       "      <td>62</td>\n",
       "      <td>MATA DA PRAIA</td>\n",
       "      <td>0</td>\n",
       "      <td>0</td>\n",
       "      <td>0</td>\n",
       "      <td>0</td>\n",
       "      <td>0</td>\n",
       "      <td>No</td>\n",
       "    </tr>\n",
       "    <tr>\n",
       "      <th>3</th>\n",
       "      <td>8.679512e+11</td>\n",
       "      <td>5642828</td>\n",
       "      <td>F</td>\n",
       "      <td>2016-04-29 17:29:31</td>\n",
       "      <td>2016-04-29</td>\n",
       "      <td>8</td>\n",
       "      <td>PONTAL DE CAMBURI</td>\n",
       "      <td>0</td>\n",
       "      <td>0</td>\n",
       "      <td>0</td>\n",
       "      <td>0</td>\n",
       "      <td>0</td>\n",
       "      <td>No</td>\n",
       "    </tr>\n",
       "    <tr>\n",
       "      <th>4</th>\n",
       "      <td>8.841186e+12</td>\n",
       "      <td>5642494</td>\n",
       "      <td>F</td>\n",
       "      <td>2016-04-29 16:07:23</td>\n",
       "      <td>2016-04-29</td>\n",
       "      <td>56</td>\n",
       "      <td>JARDIM DA PENHA</td>\n",
       "      <td>0</td>\n",
       "      <td>1</td>\n",
       "      <td>1</td>\n",
       "      <td>0</td>\n",
       "      <td>0</td>\n",
       "      <td>No</td>\n",
       "    </tr>\n",
       "  </tbody>\n",
       "</table>\n",
       "</div>"
      ],
      "text/plain": [
       "      PatientId  AppointmentID Gender        ScheduledDay AppointmentDay  Age  \\\n",
       "0  2.987250e+13        5642903      F 2016-04-29 18:38:08     2016-04-29   62   \n",
       "1  5.589978e+14        5642503      M 2016-04-29 16:08:27     2016-04-29   56   \n",
       "2  4.262962e+12        5642549      F 2016-04-29 16:19:04     2016-04-29   62   \n",
       "3  8.679512e+11        5642828      F 2016-04-29 17:29:31     2016-04-29    8   \n",
       "4  8.841186e+12        5642494      F 2016-04-29 16:07:23     2016-04-29   56   \n",
       "\n",
       "       Neighbourhood  Scholarship  Hipertension  Diabetes  Alcoholism  \\\n",
       "0    JARDIM DA PENHA            0             1         0           0   \n",
       "1    JARDIM DA PENHA            0             0         0           0   \n",
       "2      MATA DA PRAIA            0             0         0           0   \n",
       "3  PONTAL DE CAMBURI            0             0         0           0   \n",
       "4    JARDIM DA PENHA            0             1         1           0   \n",
       "\n",
       "   Handcap No-show  \n",
       "0        0      No  \n",
       "1        0      No  \n",
       "2        0      No  \n",
       "3        0      No  \n",
       "4        0      No  "
      ]
     },
     "execution_count": 9,
     "metadata": {},
     "output_type": "execute_result"
    }
   ],
   "source": [
    "#Remove SMS column\n",
    "noshowdata_new = noshowdata.drop('SMS_received',axis=1)\n",
    "noshowdata_new.head()"
   ]
  },
  {
   "cell_type": "markdown",
   "metadata": {},
   "source": [
    "#### 3) Convert 'Gender' and 'No-show' columns to int datatype. This we will be achieving by the following:\n",
    "        In Gender column replace 'M' to 1 & 'F' to 0\n",
    "        Similarly, in 'No-show' column replace 'Yes' to 1 & 'No' to 0            \n",
    "        This change will help us in graphical representation.\n"
   ]
  },
  {
   "cell_type": "code",
   "execution_count": 10,
   "metadata": {},
   "outputs": [
    {
     "data": {
      "text/html": [
       "<div>\n",
       "<style scoped>\n",
       "    .dataframe tbody tr th:only-of-type {\n",
       "        vertical-align: middle;\n",
       "    }\n",
       "\n",
       "    .dataframe tbody tr th {\n",
       "        vertical-align: top;\n",
       "    }\n",
       "\n",
       "    .dataframe thead th {\n",
       "        text-align: right;\n",
       "    }\n",
       "</style>\n",
       "<table border=\"1\" class=\"dataframe\">\n",
       "  <thead>\n",
       "    <tr style=\"text-align: right;\">\n",
       "      <th></th>\n",
       "      <th>PatientId</th>\n",
       "      <th>AppointmentID</th>\n",
       "      <th>Gender</th>\n",
       "      <th>ScheduledDay</th>\n",
       "      <th>AppointmentDay</th>\n",
       "      <th>Age</th>\n",
       "      <th>Neighbourhood</th>\n",
       "      <th>Scholarship</th>\n",
       "      <th>Hipertension</th>\n",
       "      <th>Diabetes</th>\n",
       "      <th>Alcoholism</th>\n",
       "      <th>Handcap</th>\n",
       "      <th>No-show</th>\n",
       "    </tr>\n",
       "  </thead>\n",
       "  <tbody>\n",
       "    <tr>\n",
       "      <th>0</th>\n",
       "      <td>2.987250e+13</td>\n",
       "      <td>5642903</td>\n",
       "      <td>0</td>\n",
       "      <td>2016-04-29 18:38:08</td>\n",
       "      <td>2016-04-29</td>\n",
       "      <td>62</td>\n",
       "      <td>JARDIM DA PENHA</td>\n",
       "      <td>0</td>\n",
       "      <td>1</td>\n",
       "      <td>0</td>\n",
       "      <td>0</td>\n",
       "      <td>0</td>\n",
       "      <td>No</td>\n",
       "    </tr>\n",
       "    <tr>\n",
       "      <th>1</th>\n",
       "      <td>5.589978e+14</td>\n",
       "      <td>5642503</td>\n",
       "      <td>1</td>\n",
       "      <td>2016-04-29 16:08:27</td>\n",
       "      <td>2016-04-29</td>\n",
       "      <td>56</td>\n",
       "      <td>JARDIM DA PENHA</td>\n",
       "      <td>0</td>\n",
       "      <td>0</td>\n",
       "      <td>0</td>\n",
       "      <td>0</td>\n",
       "      <td>0</td>\n",
       "      <td>No</td>\n",
       "    </tr>\n",
       "    <tr>\n",
       "      <th>2</th>\n",
       "      <td>4.262962e+12</td>\n",
       "      <td>5642549</td>\n",
       "      <td>0</td>\n",
       "      <td>2016-04-29 16:19:04</td>\n",
       "      <td>2016-04-29</td>\n",
       "      <td>62</td>\n",
       "      <td>MATA DA PRAIA</td>\n",
       "      <td>0</td>\n",
       "      <td>0</td>\n",
       "      <td>0</td>\n",
       "      <td>0</td>\n",
       "      <td>0</td>\n",
       "      <td>No</td>\n",
       "    </tr>\n",
       "  </tbody>\n",
       "</table>\n",
       "</div>"
      ],
      "text/plain": [
       "      PatientId  AppointmentID  Gender        ScheduledDay AppointmentDay  \\\n",
       "0  2.987250e+13        5642903       0 2016-04-29 18:38:08     2016-04-29   \n",
       "1  5.589978e+14        5642503       1 2016-04-29 16:08:27     2016-04-29   \n",
       "2  4.262962e+12        5642549       0 2016-04-29 16:19:04     2016-04-29   \n",
       "\n",
       "   Age    Neighbourhood  Scholarship  Hipertension  Diabetes  Alcoholism  \\\n",
       "0   62  JARDIM DA PENHA            0             1         0           0   \n",
       "1   56  JARDIM DA PENHA            0             0         0           0   \n",
       "2   62    MATA DA PRAIA            0             0         0           0   \n",
       "\n",
       "   Handcap No-show  \n",
       "0        0      No  \n",
       "1        0      No  \n",
       "2        0      No  "
      ]
     },
     "execution_count": 10,
     "metadata": {},
     "output_type": "execute_result"
    }
   ],
   "source": [
    "noshowdata_new['Gender'] = noshowdata_new['Gender'].map({'M':1, 'F':0})\n",
    "noshowdata_new.head(3)"
   ]
  },
  {
   "cell_type": "code",
   "execution_count": 11,
   "metadata": {},
   "outputs": [
    {
     "data": {
      "text/html": [
       "<div>\n",
       "<style scoped>\n",
       "    .dataframe tbody tr th:only-of-type {\n",
       "        vertical-align: middle;\n",
       "    }\n",
       "\n",
       "    .dataframe tbody tr th {\n",
       "        vertical-align: top;\n",
       "    }\n",
       "\n",
       "    .dataframe thead th {\n",
       "        text-align: right;\n",
       "    }\n",
       "</style>\n",
       "<table border=\"1\" class=\"dataframe\">\n",
       "  <thead>\n",
       "    <tr style=\"text-align: right;\">\n",
       "      <th></th>\n",
       "      <th>PatientId</th>\n",
       "      <th>AppointmentID</th>\n",
       "      <th>Gender</th>\n",
       "      <th>ScheduledDay</th>\n",
       "      <th>AppointmentDay</th>\n",
       "      <th>Age</th>\n",
       "      <th>Neighbourhood</th>\n",
       "      <th>Scholarship</th>\n",
       "      <th>Hipertension</th>\n",
       "      <th>Diabetes</th>\n",
       "      <th>Alcoholism</th>\n",
       "      <th>Handcap</th>\n",
       "      <th>No-show</th>\n",
       "    </tr>\n",
       "  </thead>\n",
       "  <tbody>\n",
       "    <tr>\n",
       "      <th>0</th>\n",
       "      <td>2.987250e+13</td>\n",
       "      <td>5642903</td>\n",
       "      <td>0</td>\n",
       "      <td>2016-04-29 18:38:08</td>\n",
       "      <td>2016-04-29</td>\n",
       "      <td>62</td>\n",
       "      <td>JARDIM DA PENHA</td>\n",
       "      <td>0</td>\n",
       "      <td>1</td>\n",
       "      <td>0</td>\n",
       "      <td>0</td>\n",
       "      <td>0</td>\n",
       "      <td>0</td>\n",
       "    </tr>\n",
       "    <tr>\n",
       "      <th>1</th>\n",
       "      <td>5.589978e+14</td>\n",
       "      <td>5642503</td>\n",
       "      <td>1</td>\n",
       "      <td>2016-04-29 16:08:27</td>\n",
       "      <td>2016-04-29</td>\n",
       "      <td>56</td>\n",
       "      <td>JARDIM DA PENHA</td>\n",
       "      <td>0</td>\n",
       "      <td>0</td>\n",
       "      <td>0</td>\n",
       "      <td>0</td>\n",
       "      <td>0</td>\n",
       "      <td>0</td>\n",
       "    </tr>\n",
       "    <tr>\n",
       "      <th>2</th>\n",
       "      <td>4.262962e+12</td>\n",
       "      <td>5642549</td>\n",
       "      <td>0</td>\n",
       "      <td>2016-04-29 16:19:04</td>\n",
       "      <td>2016-04-29</td>\n",
       "      <td>62</td>\n",
       "      <td>MATA DA PRAIA</td>\n",
       "      <td>0</td>\n",
       "      <td>0</td>\n",
       "      <td>0</td>\n",
       "      <td>0</td>\n",
       "      <td>0</td>\n",
       "      <td>0</td>\n",
       "    </tr>\n",
       "  </tbody>\n",
       "</table>\n",
       "</div>"
      ],
      "text/plain": [
       "      PatientId  AppointmentID  Gender        ScheduledDay AppointmentDay  \\\n",
       "0  2.987250e+13        5642903       0 2016-04-29 18:38:08     2016-04-29   \n",
       "1  5.589978e+14        5642503       1 2016-04-29 16:08:27     2016-04-29   \n",
       "2  4.262962e+12        5642549       0 2016-04-29 16:19:04     2016-04-29   \n",
       "\n",
       "   Age    Neighbourhood  Scholarship  Hipertension  Diabetes  Alcoholism  \\\n",
       "0   62  JARDIM DA PENHA            0             1         0           0   \n",
       "1   56  JARDIM DA PENHA            0             0         0           0   \n",
       "2   62    MATA DA PRAIA            0             0         0           0   \n",
       "\n",
       "   Handcap  No-show  \n",
       "0        0        0  \n",
       "1        0        0  \n",
       "2        0        0  "
      ]
     },
     "execution_count": 11,
     "metadata": {},
     "output_type": "execute_result"
    }
   ],
   "source": [
    "#Change object to int to show data in graph / statistical representation\n",
    "noshowdata_new['No-show'] = noshowdata_new['No-show'].map({'Yes':1, 'No':0})\n",
    "noshowdata_new.head(3)"
   ]
  },
  {
   "cell_type": "markdown",
   "metadata": {},
   "source": [
    "#### 4) Change the column names with in-correct spelling\n",
    "        'PatientId':'Patient_ID',\n",
    "        'AppointmentID':'Appointment_ID',\n",
    "        'Hipertension':'Hypertension',\n",
    "        'Handcap':'Handicap'"
   ]
  },
  {
   "cell_type": "code",
   "execution_count": 12,
   "metadata": {},
   "outputs": [
    {
     "data": {
      "text/html": [
       "<div>\n",
       "<style scoped>\n",
       "    .dataframe tbody tr th:only-of-type {\n",
       "        vertical-align: middle;\n",
       "    }\n",
       "\n",
       "    .dataframe tbody tr th {\n",
       "        vertical-align: top;\n",
       "    }\n",
       "\n",
       "    .dataframe thead th {\n",
       "        text-align: right;\n",
       "    }\n",
       "</style>\n",
       "<table border=\"1\" class=\"dataframe\">\n",
       "  <thead>\n",
       "    <tr style=\"text-align: right;\">\n",
       "      <th></th>\n",
       "      <th>Patient_ID</th>\n",
       "      <th>Appointment_ID</th>\n",
       "      <th>Gender</th>\n",
       "      <th>ScheduledDay</th>\n",
       "      <th>AppointmentDay</th>\n",
       "      <th>Age</th>\n",
       "      <th>Neighbourhood</th>\n",
       "      <th>Scholarship</th>\n",
       "      <th>Hypertension</th>\n",
       "      <th>Diabetes</th>\n",
       "      <th>Alcoholism</th>\n",
       "      <th>Handicap</th>\n",
       "      <th>No-show</th>\n",
       "    </tr>\n",
       "  </thead>\n",
       "  <tbody>\n",
       "    <tr>\n",
       "      <th>0</th>\n",
       "      <td>2.987250e+13</td>\n",
       "      <td>5642903</td>\n",
       "      <td>0</td>\n",
       "      <td>2016-04-29 18:38:08</td>\n",
       "      <td>2016-04-29</td>\n",
       "      <td>62</td>\n",
       "      <td>JARDIM DA PENHA</td>\n",
       "      <td>0</td>\n",
       "      <td>1</td>\n",
       "      <td>0</td>\n",
       "      <td>0</td>\n",
       "      <td>0</td>\n",
       "      <td>0</td>\n",
       "    </tr>\n",
       "    <tr>\n",
       "      <th>1</th>\n",
       "      <td>5.589978e+14</td>\n",
       "      <td>5642503</td>\n",
       "      <td>1</td>\n",
       "      <td>2016-04-29 16:08:27</td>\n",
       "      <td>2016-04-29</td>\n",
       "      <td>56</td>\n",
       "      <td>JARDIM DA PENHA</td>\n",
       "      <td>0</td>\n",
       "      <td>0</td>\n",
       "      <td>0</td>\n",
       "      <td>0</td>\n",
       "      <td>0</td>\n",
       "      <td>0</td>\n",
       "    </tr>\n",
       "    <tr>\n",
       "      <th>2</th>\n",
       "      <td>4.262962e+12</td>\n",
       "      <td>5642549</td>\n",
       "      <td>0</td>\n",
       "      <td>2016-04-29 16:19:04</td>\n",
       "      <td>2016-04-29</td>\n",
       "      <td>62</td>\n",
       "      <td>MATA DA PRAIA</td>\n",
       "      <td>0</td>\n",
       "      <td>0</td>\n",
       "      <td>0</td>\n",
       "      <td>0</td>\n",
       "      <td>0</td>\n",
       "      <td>0</td>\n",
       "    </tr>\n",
       "  </tbody>\n",
       "</table>\n",
       "</div>"
      ],
      "text/plain": [
       "     Patient_ID  Appointment_ID  Gender        ScheduledDay AppointmentDay  \\\n",
       "0  2.987250e+13         5642903       0 2016-04-29 18:38:08     2016-04-29   \n",
       "1  5.589978e+14         5642503       1 2016-04-29 16:08:27     2016-04-29   \n",
       "2  4.262962e+12         5642549       0 2016-04-29 16:19:04     2016-04-29   \n",
       "\n",
       "   Age    Neighbourhood  Scholarship  Hypertension  Diabetes  Alcoholism  \\\n",
       "0   62  JARDIM DA PENHA            0             1         0           0   \n",
       "1   56  JARDIM DA PENHA            0             0         0           0   \n",
       "2   62    MATA DA PRAIA            0             0         0           0   \n",
       "\n",
       "   Handicap  No-show  \n",
       "0         0        0  \n",
       "1         0        0  \n",
       "2         0        0  "
      ]
     },
     "execution_count": 12,
     "metadata": {},
     "output_type": "execute_result"
    }
   ],
   "source": [
    "# Replace column names / Correct spelling of column names\n",
    "noshowdata_new.rename(columns={'PatientId':'Patient_ID','AppointmentID':'Appointment_ID','Hipertension':'Hypertension','Handcap':'Handicap'},inplace=True)\n",
    "noshowdata_new.head(3)"
   ]
  },
  {
   "cell_type": "markdown",
   "metadata": {},
   "source": [
    "\n",
    "\n",
    "We have now completed our Data Wrangling section\n",
    "\n"
   ]
  },
  {
   "cell_type": "markdown",
   "metadata": {},
   "source": [
    "\n",
    "\n",
    "\n",
    "# Exploratory Data Analysis\n",
    "    We will now compute statistics and create visualizations with the goal of addressing the research questions that we posed in the Introduction section.\n",
    "\n",
    "### Research Question 1: Number of Appointments per patients?"
   ]
  },
  {
   "cell_type": "code",
   "execution_count": 105,
   "metadata": {},
   "outputs": [
    {
     "name": "stdout",
     "output_type": "stream",
     "text": [
      "8.221459e+14    88\n",
      "9.963767e+10    84\n",
      "2.688613e+13    70\n",
      "3.353478e+13    65\n",
      "2.584244e+11    62\n",
      "7.579746e+13    62\n",
      "8.713749e+14    62\n",
      "6.264199e+12    62\n",
      "6.684488e+13    57\n",
      "8.722785e+11    55\n",
      "8.923969e+13    54\n",
      "8.435224e+09    51\n",
      "8.534397e+14    50\n",
      "1.447997e+13    46\n",
      "6.543360e+13    46\n",
      "8.189452e+13    42\n",
      "9.452745e+12    42\n",
      "1.882323e+14    40\n",
      "9.496197e+12    38\n",
      "2.271580e+12    38\n",
      "1.336493e+13    37\n",
      "1.484143e+12    35\n",
      "8.883500e+13    34\n",
      "9.861628e+14    34\n",
      "7.124589e+14    33\n",
      "4.167557e+14    30\n",
      "6.128878e+12    30\n",
      "8.121397e+13    29\n",
      "8.634164e+12    24\n",
      "3.699499e+13    23\n",
      "                ..\n",
      "6.375629e+12     1\n",
      "9.369127e+12     1\n",
      "5.375556e+14     1\n",
      "1.662184e+11     1\n",
      "7.234615e+13     1\n",
      "9.649990e+12     1\n",
      "6.912783e+10     1\n",
      "1.954265e+13     1\n",
      "2.736377e+10     1\n",
      "5.532694e+11     1\n",
      "7.149583e+12     1\n",
      "8.676752e+13     1\n",
      "7.838359e+13     1\n",
      "5.962625e+11     1\n",
      "4.919862e+13     1\n",
      "3.477350e+14     1\n",
      "1.626595e+13     1\n",
      "7.794917e+12     1\n",
      "1.161950e+13     1\n",
      "5.615364e+14     1\n",
      "4.355592e+11     1\n",
      "1.321328e+12     1\n",
      "1.751987e+13     1\n",
      "4.262579e+13     1\n",
      "3.115681e+13     1\n",
      "1.222828e+13     1\n",
      "6.821231e+11     1\n",
      "7.163981e+14     1\n",
      "9.798964e+14     1\n",
      "2.724571e+11     1\n",
      "Name: Patient_ID, Length: 62299, dtype: int64\n"
     ]
    }
   ],
   "source": [
    "#Function value_counts() when applied on the column 'Patient_ID' will give the total number of appointments per patient\n",
    "patients_appointments_cnt = noshowdata_new['Patient_ID'].value_counts()\n",
    "print(patients_appointments_cnt)"
   ]
  },
  {
   "cell_type": "markdown",
   "metadata": {},
   "source": [
    "From above data we come to know that highest number of appointments from a patient is 88.\n",
    "Lets describe it in statistical form"
   ]
  },
  {
   "cell_type": "code",
   "execution_count": 14,
   "metadata": {},
   "outputs": [
    {
     "data": {
      "text/plain": [
       "count    62299.000000\n",
       "mean         1.774138\n",
       "std          1.770324\n",
       "min          1.000000\n",
       "25%          1.000000\n",
       "50%          1.000000\n",
       "75%          2.000000\n",
       "max         88.000000\n",
       "Name: Patient_ID, dtype: float64"
      ]
     },
     "execution_count": 14,
     "metadata": {},
     "output_type": "execute_result"
    }
   ],
   "source": [
    "patients_appointments_cnt.describe()"
   ]
  },
  {
   "cell_type": "markdown",
   "metadata": {},
   "source": [
    "In reference to above observation, maximum patients have only one appointment, but there are some patients with more than one appointment."
   ]
  },
  {
   "cell_type": "markdown",
   "metadata": {},
   "source": [
    "### Research Question 2: How Gender effects no-show?\n",
    "\n",
    "    Gender : Male = 1 & Female = 0\n",
    "    No-show: Yes = 1 & No = 0\n",
    "    \n",
    "    Using pandas crosstab we will get the detail of Gender-No-show\n",
    "    Questions that we will be answering from the observation\n",
    "    \n",
    "    1) Total number of gender\n",
    "    2) Total number of Male and Female\n",
    "    3) Total number of gender that show and not-show for the appointments\n",
    "    "
   ]
  },
  {
   "cell_type": "code",
   "execution_count": 87,
   "metadata": {},
   "outputs": [
    {
     "name": "stdout",
     "output_type": "stream",
     "text": [
      "No-show      0      1     All\n",
      "Gender                       \n",
      "0        57246  14594   71840\n",
      "1        30962   7725   38687\n",
      "All      88208  22319  110527\n",
      "\n",
      "\n",
      " No-show         0         1       All\n",
      "Gender                               \n",
      "0        0.517937  0.132040  0.649977\n",
      "1        0.280131  0.069892  0.350023\n",
      "All      0.798067  0.201933  1.000000\n"
     ]
    }
   ],
   "source": [
    "print(pd.crosstab(noshowdata_new['Gender'], noshowdata_new['No-show'], margins=True))\n",
    "print('\\n\\n',pd.crosstab(noshowdata_new['Gender'], noshowdata_new['No-show'], margins=True, normalize =True))"
   ]
  },
  {
   "cell_type": "markdown",
   "metadata": {},
   "source": [
    "    1) Total number of gender\n",
    "    Gender: 110527\n",
    "\n",
    "    2) Total number of Male and Female\n",
    "    Male: 38687\n",
    "    Female: 71840\n",
    "\n",
    "    3) Total number of gender that show and not-show for the appointments\n",
    "    Number of show-ups\n",
    "    Male:  7725\n",
    "    Female: 14594\n",
    "    \n",
    "    Number of No-show\n",
    "    Male: 30962\n",
    "    Female: 57246    \n",
    "\n",
    "    More number of females have no-show for appointments\n",
    "    Lets understand it in graph format"
   ]
  },
  {
   "cell_type": "code",
   "execution_count": 91,
   "metadata": {},
   "outputs": [
    {
     "data": {
      "image/png": "[encoded data removed]",
      "text/plain": [
       "<Figure size 432x288 with 1 Axes>"
      ]
     },
     "metadata": {
      "needs_background": "light"
     },
     "output_type": "display_data"
    }
   ],
   "source": [
    "numberOfGenderwiseNoshow.unstack().plot(kind='bar',stacked=True)\n",
    "plt.show()"
   ]
  },
  {
   "cell_type": "code",
   "execution_count": 88,
   "metadata": {},
   "outputs": [
    {
     "data": {
      "image/png": "[encoded data removed]",
      "text/plain": [
       "<Figure size 432x288 with 1 Axes>"
      ]
     },
     "metadata": {
      "needs_background": "light"
     },
     "output_type": "display_data"
    }
   ],
   "source": [
    "ax = sns.countplot(noshowdata_new.Gender.replace({0:'Female',1:'Male'}));\n",
    "ax.set_title('Gender No Show Count',fontsize=16);"
   ]
  },
  {
   "cell_type": "markdown",
   "metadata": {},
   "source": [
    "### Research Question 3: Overview on all aspects of no-show?"
   ]
  },
  {
   "cell_type": "code",
   "execution_count": 92,
   "metadata": {},
   "outputs": [
    {
     "data": {
      "text/plain": [
       "array([[<matplotlib.axes._subplots.AxesSubplot object at 0x000000000CA35518>,\n",
       "        <matplotlib.axes._subplots.AxesSubplot object at 0x000000000D263198>,\n",
       "        <matplotlib.axes._subplots.AxesSubplot object at 0x000000000D28D4E0>],\n",
       "       [<matplotlib.axes._subplots.AxesSubplot object at 0x000000000D2B48D0>,\n",
       "        <matplotlib.axes._subplots.AxesSubplot object at 0x000000000D2DDCC0>,\n",
       "        <matplotlib.axes._subplots.AxesSubplot object at 0x000000000D2DDCF8>],\n",
       "       [<matplotlib.axes._subplots.AxesSubplot object at 0x000000000D3384A8>,\n",
       "        <matplotlib.axes._subplots.AxesSubplot object at 0x000000000D35F898>,\n",
       "        <matplotlib.axes._subplots.AxesSubplot object at 0x000000000D388C88>]],\n",
       "      dtype=object)"
      ]
     },
     "execution_count": 92,
     "metadata": {},
     "output_type": "execute_result"
    },
    {
     "data": {
      "image/png": "[encoded data removed]",
      "text/plain": [
       "<Figure size 1080x1080 with 9 Axes>"
      ]
     },
     "metadata": {
      "needs_background": "light"
     },
     "output_type": "display_data"
    }
   ],
   "source": [
    "# boxplot on each feature split out by No-show\n",
    "noshowdata_new.boxplot(by=\"No-show\",figsize=(15,15))"
   ]
  },
  {
   "cell_type": "markdown",
   "metadata": {},
   "source": [
    "### Research Question 4: How neighbourhood effects no-show?"
   ]
  },
  {
   "cell_type": "code",
   "execution_count": 102,
   "metadata": {},
   "outputs": [
    {
     "name": "stdout",
     "output_type": "stream",
     "text": [
      "Total number of neighbourhoods:  81\n"
     ]
    }
   ],
   "source": [
    "totalNeighbourhoodCnt = noshowdata_new['Neighbourhood'].value_counts().count()\n",
    "print('Total number of neighbourhoods: ',totalNeighbourhoodCnt)"
   ]
  },
  {
   "cell_type": "markdown",
   "metadata": {},
   "source": [
    "Now we will check these neighbourhoods with number of appointments."
   ]
  },
  {
   "cell_type": "code",
   "execution_count": 106,
   "metadata": {},
   "outputs": [
    {
     "name": "stdout",
     "output_type": "stream",
     "text": [
      "Neighbourhood with number of appointments: \n",
      " JARDIM CAMBURI                 7717\n",
      "MARIA ORTIZ                    5805\n",
      "RESISTÊNCIA                    4431\n",
      "JARDIM DA PENHA                3877\n",
      "ITARARÉ                        3514\n",
      "CENTRO                         3334\n",
      "TABUAZEIRO                     3132\n",
      "SANTA MARTHA                   3131\n",
      "JESUS DE NAZARETH              2853\n",
      "BONFIM                         2773\n",
      "SANTO ANTÔNIO                  2746\n",
      "SANTO ANDRÉ                    2571\n",
      "CARATOÍRA                      2565\n",
      "JABOUR                         2509\n",
      "SÃO PEDRO                      2448\n",
      "ILHA DO PRÍNCIPE               2266\n",
      "NOVA PALESTINA                 2264\n",
      "ANDORINHAS                     2262\n",
      "DA PENHA                       2217\n",
      "ROMÃO                          2215\n",
      "GURIGICA                       2018\n",
      "SÃO JOSÉ                       1977\n",
      "BELA VISTA                     1907\n",
      "MARUÍPE                        1902\n",
      "FORTE SÃO JOÃO                 1889\n",
      "ILHA DE SANTA MARIA            1885\n",
      "SÃO CRISTÓVÃO                  1836\n",
      "REDENÇÃO                       1553\n",
      "SÃO BENEDITO                   1439\n",
      "JOANA D´ARC                    1427\n",
      "                               ... \n",
      "SANTOS REIS                     547\n",
      "ESTRELINHA                      538\n",
      "SANTA CLARA                     506\n",
      "SOLON BORGES                    469\n",
      "PIEDADE                         452\n",
      "SANTA CECÍLIA                   448\n",
      "SANTA LÚCIA                     438\n",
      "SANTA LUÍZA                     428\n",
      "BARRO VERMELHO                  423\n",
      "DO MOSCOSO                      413\n",
      "MÁRIO CYPRESTE                  371\n",
      "BOA VISTA                       312\n",
      "COMDUSA                         310\n",
      "DE LOURDES                      305\n",
      "ARIOVALDO FAVALESSA             282\n",
      "ANTÔNIO HONÓRIO                 271\n",
      "FRADINHOS                       258\n",
      "ENSEADA DO SUÁ                  235\n",
      "SANTA HELENA                    178\n",
      "HORTO                           175\n",
      "UNIVERSITÁRIO                   152\n",
      "SEGURANÇA DO LAR                145\n",
      "NAZARETH                        135\n",
      "MORADA DE CAMBURI                96\n",
      "PONTAL DE CAMBURI                69\n",
      "ILHA DO BOI                      35\n",
      "ILHA DO FRADE                    10\n",
      "AEROPORTO                         8\n",
      "ILHAS OCEÂNICAS DE TRINDADE       2\n",
      "PARQUE INDUSTRIAL                 1\n",
      "Name: Neighbourhood, Length: 81, dtype: int64\n"
     ]
    }
   ],
   "source": [
    "neighbourhood_appointments_cnt = noshowdata_new['Neighbourhood'].value_counts()\n",
    "print('Neighbourhood with number of appointments: \\n',neighbourhood_appointments_cnt)"
   ]
  },
  {
   "cell_type": "markdown",
   "metadata": {},
   "source": [
    "Highest Appointments from JARDIM CAMBURI\n",
    "Least Appointments from PARQUE INDUSTRIAL"
   ]
  },
  {
   "cell_type": "code",
   "execution_count": 107,
   "metadata": {},
   "outputs": [
    {
     "data": {
      "image/png": "[encoded data removed]",
      "text/plain": [
       "<Figure size 1080x1080 with 1 Axes>"
      ]
     },
     "metadata": {
      "needs_background": "light"
     },
     "output_type": "display_data"
    }
   ],
   "source": [
    "neighbourhood_appointments_cnt.plot(kind='barh',figsize=(15,15))\n",
    "plt.show()"
   ]
  },
  {
   "cell_type": "code",
   "execution_count": 106,
   "metadata": {},
   "outputs": [
    {
     "name": "stdout",
     "output_type": "stream",
     "text": [
      "\n",
      "\n",
      " No-show                     0         1       All\n",
      "Neighbourhood                                    \n",
      "AEROPORTO            0.000063  0.000009  0.000072\n",
      "ANDORINHAS           0.015752  0.004714  0.020466\n",
      "ANTÔNIO HONÓRIO      0.002000  0.000452  0.002452\n",
      "ARIOVALDO FAVALESSA  0.001990  0.000561  0.002551\n",
      "BARRO VERMELHO       0.003004  0.000823  0.003827\n",
      "BELA VISTA           0.013779  0.003474  0.017254\n",
      "BENTO FERREIRA       0.006017  0.001746  0.007763\n",
      "BOA VISTA            0.002298  0.000525  0.002823\n",
      "BONFIM               0.020113  0.004976  0.025089\n",
      "CARATOÍRA            0.017860  0.005347  0.023207\n",
      "CENTRO               0.023804  0.006360  0.030165\n",
      "COMDUSA              0.002298  0.000507  0.002805\n",
      "CONQUISTA            0.006234  0.001448  0.007681\n",
      "CONSOLAÇÃO           0.010305  0.002144  0.012449\n",
      "CRUZAMENTO           0.009898  0.002750  0.012648\n",
      "DA PENHA             0.016177  0.003881  0.020058\n",
      "DE LOURDES           0.002334  0.000425  0.002760\n",
      "DO CABRAL            0.004270  0.000796  0.005067\n",
      "DO MOSCOSO           0.002904  0.000832  0.003737\n",
      "DO QUADRO            0.006415  0.001267  0.007681\n",
      "ENSEADA DO SUÁ       0.001656  0.000470  0.002126\n",
      "ESTRELINHA           0.003909  0.000959  0.004868\n",
      "FONTE GRANDE         0.004822  0.001348  0.006170\n",
      "FORTE SÃO JOÃO       0.013960  0.003130  0.017091\n",
      "FRADINHOS            0.001900  0.000434  0.002334\n",
      "GOIABEIRAS           0.005094  0.001240  0.006333\n",
      "GRANDE VITÓRIA       0.007727  0.001963  0.009690\n",
      "GURIGICA             0.014132  0.004126  0.018258\n",
      "HORTO                0.001203  0.000380  0.001583\n",
      "ILHA DAS CAIEIRAS    0.007564  0.002126  0.009690\n",
      "...                       ...       ...       ...\n",
      "PARQUE MOSCOSO       0.005637  0.001620  0.007256\n",
      "PIEDADE              0.003293  0.000796  0.004089\n",
      "PONTAL DE CAMBURI    0.000516  0.000109  0.000624\n",
      "PRAIA DO CANTO       0.007645  0.001719  0.009364\n",
      "PRAIA DO SUÁ         0.008993  0.002660  0.011653\n",
      "REDENÇÃO             0.011563  0.002488  0.014051\n",
      "REPÚBLICA            0.006261  0.001294  0.007555\n",
      "RESISTÊNCIA          0.031893  0.008197  0.040090\n",
      "ROMÃO                0.015752  0.004289  0.020040\n",
      "SANTA CECÍLIA        0.002940  0.001113  0.004053\n",
      "SANTA CLARA          0.003366  0.001212  0.004578\n",
      "SANTA HELENA         0.001276  0.000335  0.001610\n",
      "SANTA LUÍZA          0.003176  0.000697  0.003872\n",
      "SANTA LÚCIA          0.003185  0.000778  0.003963\n",
      "SANTA MARTHA         0.023840  0.004488  0.028328\n",
      "SANTA TEREZA         0.009590  0.002461  0.012051\n",
      "SANTO ANDRÉ          0.018665  0.004596  0.023261\n",
      "SANTO ANTÔNIO        0.020466  0.004379  0.024845\n",
      "SANTOS DUMONT        0.008206  0.003339  0.011545\n",
      "SANTOS REIS          0.003936  0.001013  0.004949\n",
      "SEGURANÇA DO LAR     0.001059  0.000253  0.001312\n",
      "SOLON BORGES         0.003619  0.000624  0.004243\n",
      "SÃO BENEDITO         0.010423  0.002597  0.013019\n",
      "SÃO CRISTÓVÃO        0.013327  0.003284  0.016611\n",
      "SÃO JOSÉ             0.014015  0.003872  0.017887\n",
      "SÃO PEDRO            0.017489  0.004659  0.022148\n",
      "TABUAZEIRO           0.023153  0.005184  0.028337\n",
      "UNIVERSITÁRIO        0.001086  0.000290  0.001375\n",
      "VILA RUBIM           0.006424  0.001276  0.007699\n",
      "All                  0.798067  0.201933  1.000000\n",
      "\n",
      "[82 rows x 3 columns]\n"
     ]
    }
   ],
   "source": [
    "neighbourhood_noshow = pd.crosstab(noshowdata_new.Neighbourhood, noshowdata_new['No-show'], margins=True, normalize =True)\n",
    "print('\\n\\n',neighbourhood_noshow)"
   ]
  },
  {
   "cell_type": "code",
   "execution_count": 115,
   "metadata": {},
   "outputs": [
    {
     "name": "stderr",
     "output_type": "stream",
     "text": [
      "C:\\Users\\divya.baria\\AppData\\Local\\Continuum\\anaconda3\\lib\\site-packages\\scipy\\stats\\stats.py:1713: FutureWarning: Using a non-tuple sequence for multidimensional indexing is deprecated; use `arr[tuple(seq)]` instead of `arr[seq]`. In the future this will be interpreted as an array index, `arr[np.array(seq)]`, which will result either in an error or a different result.\n",
      "  return np.add.reduce(sorted[indexer] * weights, axis=axis) / sumval\n"
     ]
    },
    {
     "data": {
      "image/png": "[encoded data removed]",
      "text/plain": [
       "<Figure size 720x360 with 2 Axes>"
      ]
     },
     "metadata": {
      "needs_background": "light"
     },
     "output_type": "display_data"
    }
   ],
   "source": [
    "# Representation of neighbourhood with Appointments, here we come to know which neighbourhood has highest appointments Genderwise\n",
    "sns.relplot(x=\"Neighbourhood\", y=\"Appointment_ID\", kind='line',col=\"Gender\",data=noshowdata_new);\n",
    "plt.show()"
   ]
  },
  {
   "cell_type": "markdown",
   "metadata": {},
   "source": [
    "### Research Question 5: How weekdays effects no-show?\n",
    "\n",
    "    First we will create a Weekdays column."
   ]
  },
  {
   "cell_type": "code",
   "execution_count": 42,
   "metadata": {},
   "outputs": [
    {
     "data": {
      "text/html": [
       "<div>\n",
       "<style scoped>\n",
       "    .dataframe tbody tr th:only-of-type {\n",
       "        vertical-align: middle;\n",
       "    }\n",
       "\n",
       "    .dataframe tbody tr th {\n",
       "        vertical-align: top;\n",
       "    }\n",
       "\n",
       "    .dataframe thead th {\n",
       "        text-align: right;\n",
       "    }\n",
       "</style>\n",
       "<table border=\"1\" class=\"dataframe\">\n",
       "  <thead>\n",
       "    <tr style=\"text-align: right;\">\n",
       "      <th></th>\n",
       "      <th>Patient_ID</th>\n",
       "      <th>Appointment_ID</th>\n",
       "      <th>Gender</th>\n",
       "      <th>ScheduledDay</th>\n",
       "      <th>AppointmentDay</th>\n",
       "      <th>Age</th>\n",
       "      <th>Neighbourhood</th>\n",
       "      <th>Scholarship</th>\n",
       "      <th>Hypertension</th>\n",
       "      <th>Diabetes</th>\n",
       "      <th>Alcoholism</th>\n",
       "      <th>Handicap</th>\n",
       "      <th>No-show</th>\n",
       "      <th>Weekdays</th>\n",
       "    </tr>\n",
       "  </thead>\n",
       "  <tbody>\n",
       "    <tr>\n",
       "      <th>0</th>\n",
       "      <td>2.987250e+13</td>\n",
       "      <td>5642903</td>\n",
       "      <td>0</td>\n",
       "      <td>2016-04-29 18:38:08</td>\n",
       "      <td>2016-04-29</td>\n",
       "      <td>62</td>\n",
       "      <td>JARDIM DA PENHA</td>\n",
       "      <td>0</td>\n",
       "      <td>1</td>\n",
       "      <td>0</td>\n",
       "      <td>0</td>\n",
       "      <td>0</td>\n",
       "      <td>0</td>\n",
       "      <td>Friday</td>\n",
       "    </tr>\n",
       "    <tr>\n",
       "      <th>1</th>\n",
       "      <td>5.589978e+14</td>\n",
       "      <td>5642503</td>\n",
       "      <td>1</td>\n",
       "      <td>2016-04-29 16:08:27</td>\n",
       "      <td>2016-04-29</td>\n",
       "      <td>56</td>\n",
       "      <td>JARDIM DA PENHA</td>\n",
       "      <td>0</td>\n",
       "      <td>0</td>\n",
       "      <td>0</td>\n",
       "      <td>0</td>\n",
       "      <td>0</td>\n",
       "      <td>0</td>\n",
       "      <td>Friday</td>\n",
       "    </tr>\n",
       "    <tr>\n",
       "      <th>2</th>\n",
       "      <td>4.262962e+12</td>\n",
       "      <td>5642549</td>\n",
       "      <td>0</td>\n",
       "      <td>2016-04-29 16:19:04</td>\n",
       "      <td>2016-04-29</td>\n",
       "      <td>62</td>\n",
       "      <td>MATA DA PRAIA</td>\n",
       "      <td>0</td>\n",
       "      <td>0</td>\n",
       "      <td>0</td>\n",
       "      <td>0</td>\n",
       "      <td>0</td>\n",
       "      <td>0</td>\n",
       "      <td>Friday</td>\n",
       "    </tr>\n",
       "  </tbody>\n",
       "</table>\n",
       "</div>"
      ],
      "text/plain": [
       "     Patient_ID  Appointment_ID  Gender        ScheduledDay AppointmentDay  \\\n",
       "0  2.987250e+13         5642903       0 2016-04-29 18:38:08     2016-04-29   \n",
       "1  5.589978e+14         5642503       1 2016-04-29 16:08:27     2016-04-29   \n",
       "2  4.262962e+12         5642549       0 2016-04-29 16:19:04     2016-04-29   \n",
       "\n",
       "   Age    Neighbourhood  Scholarship  Hypertension  Diabetes  Alcoholism  \\\n",
       "0   62  JARDIM DA PENHA            0             1         0           0   \n",
       "1   56  JARDIM DA PENHA            0             0         0           0   \n",
       "2   62    MATA DA PRAIA            0             0         0           0   \n",
       "\n",
       "   Handicap  No-show Weekdays  \n",
       "0         0        0   Friday  \n",
       "1         0        0   Friday  \n",
       "2         0        0   Friday  "
      ]
     },
     "execution_count": 42,
     "metadata": {},
     "output_type": "execute_result"
    }
   ],
   "source": [
    "# add column for Weekday\n",
    "weekDays = (\"Monday\",\"Tuesday\",\"Wednesday\",\"Thursday\",\"Friday\",\"Saturday\",\"Sunday\")\n",
    "appDays = []\n",
    "for x in noshowdata_new['AppointmentDay']:\n",
    "    wd = weekDays[x.weekday()]\n",
    "    #print(wd)\n",
    "    appDays.append(wd)\n",
    "#print(appDays)    \n",
    "    #print(noshowdata_new['Weekdays'])\n",
    "noshowdata_new['Weekdays'] = appDays   \n",
    "noshowdata_new.head(3)"
   ]
  },
  {
   "cell_type": "code",
   "execution_count": 43,
   "metadata": {},
   "outputs": [
    {
     "name": "stdout",
     "output_type": "stream",
     "text": [
      "Wednesday    25867\n",
      "Tuesday      25640\n",
      "Monday       22715\n",
      "Friday       19019\n",
      "Thursday     17247\n",
      "Saturday        39\n",
      "Name: Weekdays, dtype: int64\n"
     ]
    }
   ],
   "source": [
    "weekDaysAppCnts = noshowdata_new['Weekdays'].value_counts()\n",
    "print(weekDaysAppCnts)"
   ]
  },
  {
   "cell_type": "markdown",
   "metadata": {},
   "source": [
    "WeekDays Appointments:\n",
    "Least number of appoinments are on Saturday\n",
    "Maximum number of Appointments are on Monday, Tuesday and Wednesday\n",
    "Medium number of Appointments are on Thursday and Friday\n",
    "\n",
    "Graphical representation of the same:"
   ]
  },
  {
   "cell_type": "code",
   "execution_count": 44,
   "metadata": {},
   "outputs": [
    {
     "data": {
      "image/png": "[encoded data removed]",
      "text/plain": [
       "<Figure size 432x288 with 1 Axes>"
      ]
     },
     "metadata": {
      "needs_background": "light"
     },
     "output_type": "display_data"
    }
   ],
   "source": [
    "weekDaysAppCnts.sort_index(ascending=True).plot(kind='bar')\n",
    "plt.xlabel('WeekDays')\n",
    "plt.show()"
   ]
  },
  {
   "cell_type": "markdown",
   "metadata": {},
   "source": [
    "Graphical Representation of no-show weekdaywise"
   ]
  },
  {
   "cell_type": "code",
   "execution_count": 107,
   "metadata": {},
   "outputs": [
    {
     "name": "stderr",
     "output_type": "stream",
     "text": [
      "C:\\Users\\divya.baria\\AppData\\Local\\Continuum\\anaconda3\\lib\\site-packages\\scipy\\stats\\stats.py:1713: FutureWarning: Using a non-tuple sequence for multidimensional indexing is deprecated; use `arr[tuple(seq)]` instead of `arr[seq]`. In the future this will be interpreted as an array index, `arr[np.array(seq)]`, which will result either in an error or a different result.\n",
      "  return np.add.reduce(sorted[indexer] * weights, axis=axis) / sumval\n"
     ]
    },
    {
     "data": {
      "image/png": "[encoded data removed]",
      "text/plain": [
       "<Figure size 432x288 with 1 Axes>"
      ]
     },
     "metadata": {
      "needs_background": "light"
     },
     "output_type": "display_data"
    }
   ],
   "source": [
    "sns.barplot(y='No-show', x='Weekdays', data=noshowdata_new)\n",
    "plt.show()"
   ]
  },
  {
   "cell_type": "markdown",
   "metadata": {},
   "source": [
    "Figure-level interface for drawing relational plots onto a FacetGrid.\n",
    "\n",
    "relplot function provides access to several different axes-level functions that show the relationship between two variables with semantic mappings of subsets.\n",
    "\n",
    "hue: Grouping variable that will produce elements with different colors.\n",
    "style: Grouping variable that will produce elements with different styles.\n",
    "col: Categorical variables that will determine the faceting of the grid.\n"
   ]
  },
  {
   "cell_type": "code",
   "execution_count": 112,
   "metadata": {},
   "outputs": [
    {
     "name": "stderr",
     "output_type": "stream",
     "text": [
      "C:\\Users\\divya.baria\\AppData\\Local\\Continuum\\anaconda3\\lib\\site-packages\\scipy\\stats\\stats.py:1713: FutureWarning: Using a non-tuple sequence for multidimensional indexing is deprecated; use `arr[tuple(seq)]` instead of `arr[seq]`. In the future this will be interpreted as an array index, `arr[np.array(seq)]`, which will result either in an error or a different result.\n",
      "  return np.add.reduce(sorted[indexer] * weights, axis=axis) / sumval\n"
     ]
    },
    {
     "data": {
      "image/png": "[encoded data removed]",
      "text/plain": [
       "<Figure size 798.875x360 with 2 Axes>"
      ]
     },
     "metadata": {
      "needs_background": "light"
     },
     "output_type": "display_data"
    }
   ],
   "source": [
    "sns.relplot(x=\"Weekdays\", y=\"Patient_ID\", hue=\"No-show\",style='No-show',col='Gender',kind='line',data=noshowdata_new);\n",
    "plt.show()"
   ]
  },
  {
   "cell_type": "markdown",
   "metadata": {},
   "source": [
    "There is a continuity in the male no-show even on saturday, whereas for female there is a dropdown."
   ]
  },
  {
   "cell_type": "markdown",
   "metadata": {},
   "source": [
    "### Research Question 6: How many with scholarship no-show for the appointment?\n",
    "\n",
    "First will we find the detail figures of people with scholarship show-up, then we will work on the grahical representation"
   ]
  },
  {
   "cell_type": "code",
   "execution_count": 64,
   "metadata": {},
   "outputs": [
    {
     "name": "stdout",
     "output_type": "stream",
     "text": [
      "Scholarship         0      1     All\n",
      "No-show Gender                      \n",
      "0       0       50499   6747   57246\n",
      "        1       29426   1536   30962\n",
      "1       0       12488   2106   14594\n",
      "        1        7253    472    7725\n",
      "All             99666  10861  110527\n"
     ]
    }
   ],
   "source": [
    "print(pd.crosstab([noshowdata_new['No-show'], noshowdata_new['Gender']], noshowdata_new.Scholarship,  margins=True))"
   ]
  },
  {
   "cell_type": "markdown",
   "metadata": {},
   "source": [
    "Graphical Representation"
   ]
  },
  {
   "cell_type": "code",
   "execution_count": 46,
   "metadata": {},
   "outputs": [
    {
     "name": "stderr",
     "output_type": "stream",
     "text": [
      "C:\\Users\\divya.baria\\AppData\\Local\\Continuum\\anaconda3\\lib\\site-packages\\scipy\\stats\\stats.py:1713: FutureWarning: Using a non-tuple sequence for multidimensional indexing is deprecated; use `arr[tuple(seq)]` instead of `arr[seq]`. In the future this will be interpreted as an array index, `arr[np.array(seq)]`, which will result either in an error or a different result.\n",
      "  return np.add.reduce(sorted[indexer] * weights, axis=axis) / sumval\n"
     ]
    },
    {
     "data": {
      "image/png": "[encoded data removed]",
      "text/plain": [
       "<Figure size 432x288 with 1 Axes>"
      ]
     },
     "metadata": {
      "needs_background": "light"
     },
     "output_type": "display_data"
    }
   ],
   "source": [
    "sns.barplot(y='No-show', x='Scholarship', data=noshowdata_new)\n",
    "plt.show()"
   ]
  },
  {
   "cell_type": "markdown",
   "metadata": {},
   "source": [
    "From the above representation we come to know people with scholarship have no-show more for appointments."
   ]
  },
  {
   "cell_type": "markdown",
   "metadata": {},
   "source": [
    "### Research Question 7: Number of Patients Types that have showed-up for the appointment?\n",
    "\n",
    "We will be using pivot_table to understand this.\n",
    "\n",
    "Types of patients:\n",
    "1) Hypertension\n",
    "2) Diabetes\n",
    "3) Alcoholism\n",
    "4) Handicap\n",
    "\n",
    "Using pivot_table we will give detail description on type, gender and no-show"
   ]
  },
  {
   "cell_type": "code",
   "execution_count": 69,
   "metadata": {},
   "outputs": [
    {
     "name": "stdout",
     "output_type": "stream",
     "text": [
      "                Alcoholism  Diabetes  Handicap  Hypertension\n",
      "No-show Gender                                              \n",
      "0       0              915      4589      1133         12682\n",
      "        1             1768      1924       873          5347\n",
      "1       0              308      1017       271          2657\n",
      "        1              369       413       182          1115\n"
     ]
    }
   ],
   "source": [
    "#Pivot the dataset\n",
    "patientTypeNoshowGender = noshowdata_new.pivot_table(values=['Hypertension','Diabetes','Alcoholism','Handicap'],index=['No-show','Gender'],aggfunc=np.sum)\n",
    "print(patientTypeNoshowGender)"
   ]
  },
  {
   "cell_type": "markdown",
   "metadata": {},
   "source": [
    "The above details gives us the clear picture of number of male & female no-show for the appointments by patient types.\n",
    "\n",
    "There are more of female no-show's with Diabetes & Hypertension\n",
    "\n",
    "This results can be further classified to Weekdays & Scholarship"
   ]
  },
  {
   "cell_type": "code",
   "execution_count": 50,
   "metadata": {},
   "outputs": [
    {
     "name": "stdout",
     "output_type": "stream",
     "text": [
      "                                      Alcoholism  Diabetes  Handicap  \\\n",
      "No-show Gender Weekdays  Scholarship                                   \n",
      "0       0      Friday    0                   109       764       182   \n",
      "                         1                    57        51        26   \n",
      "               Monday    0                   111       753       184   \n",
      "                         1                    54       100        27   \n",
      "               Saturday  0                     1         2         0   \n",
      "                         1                     0         0         0   \n",
      "               Thursday  0                    96       660       183   \n",
      "                         1                    50        73        11   \n",
      "               Tuesday   0                   142      1041       246   \n",
      "                         1                    61        84        24   \n",
      "               Wednesday 0                   149       965       220   \n",
      "                         1                    85        96        30   \n",
      "        1      Friday    0                   314       352       163   \n",
      "                         1                    12         9         7   \n",
      "               Monday    0                   355       384       159   \n",
      "                         1                    24         6        13   \n",
      "               Saturday  0                     1         3         1   \n",
      "               Thursday  0                   260       264       139   \n",
      "                         1                    11         4         5   \n",
      "               Tuesday   0                   364       446       184   \n",
      "                         1                     7         9        14   \n",
      "               Wednesday 0                   402       433       178   \n",
      "                         1                    18        14        10   \n",
      "1       0      Friday    0                    24       173        30   \n",
      "                         1                    24        21         1   \n",
      "               Monday    0                    41       211        54   \n",
      "                         1                    28        27         7   \n",
      "               Saturday  0                     0         2         0   \n",
      "               Thursday  0                    32       129        48   \n",
      "                         1                    16        15         5   \n",
      "               Tuesday   0                    47       190        63   \n",
      "                         1                    34        23         6   \n",
      "               Wednesday 0                    34       199        52   \n",
      "                         1                    28        27         5   \n",
      "        1      Friday    0                    66        91        32   \n",
      "                         1                     2         2         3   \n",
      "               Monday    0                    87        89        34   \n",
      "                         1                     4         1         0   \n",
      "               Saturday  0                     0         0         0   \n",
      "               Thursday  0                    46        57        17   \n",
      "                         1                     7         1         1   \n",
      "               Tuesday   0                    80        80        49   \n",
      "                         1                     3         2         0   \n",
      "               Wednesday 0                    71        86        45   \n",
      "                         1                     3         4         1   \n",
      "\n",
      "                                      Hypertension  \n",
      "No-show Gender Weekdays  Scholarship                \n",
      "0       0      Friday    0                    1930  \n",
      "                         1                     209  \n",
      "               Monday    0                    2197  \n",
      "                         1                     291  \n",
      "               Saturday  0                       9  \n",
      "                         1                       0  \n",
      "               Thursday  0                    1841  \n",
      "                         1                     239  \n",
      "               Tuesday   0                    2689  \n",
      "                         1                     296  \n",
      "               Wednesday 0                    2654  \n",
      "                         1                     327  \n",
      "        1      Friday    0                     895  \n",
      "                         1                      32  \n",
      "               Monday    0                    1076  \n",
      "                         1                      33  \n",
      "               Saturday  0                       6  \n",
      "               Thursday  0                     808  \n",
      "                         1                      19  \n",
      "               Tuesday   0                    1233  \n",
      "                         1                      31  \n",
      "               Wednesday 0                    1179  \n",
      "                         1                      35  \n",
      "1       0      Friday    0                     411  \n",
      "                         1                      66  \n",
      "               Monday    0                     498  \n",
      "                         1                      82  \n",
      "               Saturday  0                       4  \n",
      "               Thursday  0                     357  \n",
      "                         1                      45  \n",
      "               Tuesday   0                     535  \n",
      "                         1                      80  \n",
      "               Wednesday 0                     508  \n",
      "                         1                      71  \n",
      "        1      Friday    0                     203  \n",
      "                         1                       6  \n",
      "               Monday    0                     208  \n",
      "                         1                       5  \n",
      "               Saturday  0                       0  \n",
      "               Thursday  0                     158  \n",
      "                         1                       1  \n",
      "               Tuesday   0                     259  \n",
      "                         1                       8  \n",
      "               Wednesday 0                     259  \n",
      "                         1                       8  \n"
     ]
    }
   ],
   "source": [
    "#Pivot the dataset\n",
    "patientTypeNoshowGenderWeekDaysScholarship = noshowdata_new.pivot_table(values=['Hypertension','Diabetes','Alcoholism','Handicap'],index=['No-show','Gender','Weekdays','Scholarship'],aggfunc=np.sum)\n",
    "print(noshow_pivottable)"
   ]
  },
  {
   "cell_type": "markdown",
   "metadata": {},
   "source": [
    "Details for no-show of patient types with scholarships on weekdays"
   ]
  },
  {
   "cell_type": "code",
   "execution_count": 55,
   "metadata": {},
   "outputs": [
    {
     "name": "stdout",
     "output_type": "stream",
     "text": [
      "                          Alcoholism  Diabetes  Handicap  Hypertension  \\\n",
      "No-show Gender Weekdays                                                  \n",
      "0       0      Friday            166       815       208          2139   \n",
      "               Monday            165       853       211          2488   \n",
      "               Saturday            1         2         0             9   \n",
      "               Thursday          146       733       194          2080   \n",
      "               Tuesday           203      1125       270          2985   \n",
      "               Wednesday         234      1061       250          2981   \n",
      "        1      Friday            326       361       170           927   \n",
      "               Monday            379       390       172          1109   \n",
      "               Saturday            1         3         1             6   \n",
      "               Thursday          271       268       144           827   \n",
      "               Tuesday           371       455       198          1264   \n",
      "               Wednesday         420       447       188          1214   \n",
      "1       0      Friday             48       194        31           477   \n",
      "               Monday             69       238        61           580   \n",
      "               Saturday            0         2         0             4   \n",
      "               Thursday           48       144        53           402   \n",
      "               Tuesday            81       213        69           615   \n",
      "               Wednesday          62       226        57           579   \n",
      "        1      Friday             68        93        35           209   \n",
      "               Monday             91        90        34           213   \n",
      "               Saturday            0         0         0             0   \n",
      "               Thursday           53        58        18           159   \n",
      "               Tuesday            83        82        49           267   \n",
      "               Wednesday          74        90        46           267   \n",
      "\n",
      "                          Scholarship  \n",
      "No-show Gender Weekdays                \n",
      "0       0      Friday            1123  \n",
      "               Monday            1355  \n",
      "               Saturday             3  \n",
      "               Thursday          1066  \n",
      "               Tuesday           1600  \n",
      "               Wednesday         1600  \n",
      "        1      Friday             269  \n",
      "               Monday             330  \n",
      "               Saturday             0  \n",
      "               Thursday           245  \n",
      "               Tuesday            342  \n",
      "               Wednesday          350  \n",
      "1       0      Friday             409  \n",
      "               Monday             444  \n",
      "               Saturday             0  \n",
      "               Thursday           289  \n",
      "               Tuesday            499  \n",
      "               Wednesday          465  \n",
      "        1      Friday              81  \n",
      "               Monday              91  \n",
      "               Saturday             0  \n",
      "               Thursday            58  \n",
      "               Tuesday            120  \n",
      "               Wednesday          122  \n"
     ]
    }
   ],
   "source": [
    "#Pivot the dataset\n",
    "patientTypeWeekdays = noshowdata_new.pivot_table(values=['Hypertension','Diabetes','Alcoholism','Handicap','Scholarship'],index=['No-show','Gender','Weekdays'],aggfunc=np.sum)\n",
    "print(patientTypeWeekdays)"
   ]
  },
  {
   "cell_type": "markdown",
   "metadata": {},
   "source": [
    "### Research Question 8: How age effects no-show?\n",
    "\n",
    "First, lets find unqiue values in 'Age' columns."
   ]
  },
  {
   "cell_type": "code",
   "execution_count": 29,
   "metadata": {},
   "outputs": [
    {
     "name": "stdout",
     "output_type": "stream",
     "text": [
      "[ -1   0   1   2   3   4   5   6   7   8   9  10  11  12  13  14  15  16\n",
      "  17  18  19  20  21  22  23  24  25  26  27  28  29  30  31  32  33  34\n",
      "  35  36  37  38  39  40  41  42  43  44  45  46  47  48  49  50  51  52\n",
      "  53  54  55  56  57  58  59  60  61  62  63  64  65  66  67  68  69  70\n",
      "  71  72  73  74  75  76  77  78  79  80  81  82  83  84  85  86  87  88\n",
      "  89  90  91  92  93  94  95  96  97  98  99 100 102 115]\n"
     ]
    }
   ],
   "source": [
    "age_unique = noshowdata_new['Age'].unique()\n",
    "age_unique.sort()\n",
    "print(age_unique)"
   ]
  },
  {
   "cell_type": "markdown",
   "metadata": {},
   "source": [
    "So, here is the list of unique value in Age column.\n",
    "\n",
    "To understand better, plot it into graphical format."
   ]
  },
  {
   "cell_type": "code",
   "execution_count": 81,
   "metadata": {},
   "outputs": [
    {
     "data": {
      "text/plain": [
       "Text(0.5,0,'Population Ages')"
      ]
     },
     "execution_count": 81,
     "metadata": {},
     "output_type": "execute_result"
    },
    {
     "data": {
      "image/png": "[encoded data removed]",
      "text/plain": [
       "<Figure size 432x288 with 1 Axes>"
      ]
     },
     "metadata": {
      "needs_background": "light"
     },
     "output_type": "display_data"
    }
   ],
   "source": [
    "# Distribution of 'Age'\n",
    "plt.figure();\n",
    "age_hist = noshowdata_new['Age'].plot.hist(bins=10,rwidth=0.8).grid(True)\n",
    "plt.xlabel('Population Ages',fontsize=14)"
   ]
  },
  {
   "cell_type": "markdown",
   "metadata": {},
   "source": [
    "The appointments decreases after the person crosses the age 70.\n",
    "\n",
    "Let's find out, no-show appointments age wise."
   ]
  },
  {
   "cell_type": "code",
   "execution_count": 85,
   "metadata": {},
   "outputs": [
    {
     "name": "stdout",
     "output_type": "stream",
     "text": [
      "Age      -1     0     1     2     3     4     5     6     7     8   ...    94  \\\n",
      "No-show                                                             ...         \n",
      "0         1  2900  1858  1366  1236  1017  1169  1205  1126  1106   ...    27   \n",
      "1         0   639   415   252   277   282   320   316   301   318   ...     6   \n",
      "All       1  3539  2273  1618  1513  1299  1489  1521  1427  1424   ...    33   \n",
      "\n",
      "Age      95  96  97  98  99  100  102  115     All  \n",
      "No-show                                             \n",
      "0        18  16   9   5   1    4    2    2   88208  \n",
      "1         6   1   2   1   0    0    0    3   22319  \n",
      "All      24  17  11   6   1    4    2    5  110527  \n",
      "\n",
      "[3 rows x 105 columns]\n"
     ]
    }
   ],
   "source": [
    "print(pd.crosstab(noshowdata_new['No-show'], noshowdata_new.Age,  margins=True))"
   ]
  },
  {
   "cell_type": "markdown",
   "metadata": {},
   "source": [
    "Graphical Representation of Agewise no-show"
   ]
  },
  {
   "cell_type": "code",
   "execution_count": 92,
   "metadata": {},
   "outputs": [
    {
     "data": {
      "image/png": "[encoded data removed]",
      "text/plain": [
       "<Figure size 432x288 with 1 Axes>"
      ]
     },
     "metadata": {
      "needs_background": "light"
     },
     "output_type": "display_data"
    }
   ],
   "source": [
    "noshowdata_new.groupby(['Age','No-show'])['Patient_ID'].size().unstack().plot(kind='line',stacked=True)\n",
    "plt.show()"
   ]
  },
  {
   "cell_type": "markdown",
   "metadata": {},
   "source": [
    "### Research Question 9: Appointments of PatientTypes with respect to Age\n",
    "\n",
    "1) Appointments by Date\n",
    "2) Appointments of patients with Hypertension with respect to Age\n",
    "3) Appointments of patients with Diabetes with respect to Age\n",
    "4) Appointments of patients with Alcoholism with respect to Age\n",
    "5) Appointments of patients with Handicap with respect to Age"
   ]
  },
  {
   "cell_type": "code",
   "execution_count": 101,
   "metadata": {},
   "outputs": [
    {
     "data": {
      "image/png": "[encoded data removed]",
      "text/plain": [
       "<Figure size 432x288 with 1 Axes>"
      ]
     },
     "metadata": {
      "needs_background": "light"
     },
     "output_type": "display_data"
    }
   ],
   "source": [
    "appointments_by_date = noshowdata_new.groupby('AppointmentDay').size().reset_index(name='appointment_count').set_index('AppointmentDay')\n",
    "\n",
    "appointments_by_date.plot(title='Appointments by Date')\n",
    "plt.ylabel('Count of Appointments')\n",
    "plt.show()"
   ]
  },
  {
   "cell_type": "code",
   "execution_count": 118,
   "metadata": {},
   "outputs": [
    {
     "data": {
      "image/png": "[encoded data removed]",
      "text/plain": [
       "<Figure size 432x288 with 1 Axes>"
      ]
     },
     "metadata": {
      "needs_background": "light"
     },
     "output_type": "display_data"
    }
   ],
   "source": [
    "noshowdata_new.groupby(['AppointmentDay','Hypertension'])['Age'].size().unstack().plot(kind='line',stacked=True)\n",
    "plt.ylabel('Count of Appointments')\n",
    "plt.show()"
   ]
  },
  {
   "cell_type": "code",
   "execution_count": 114,
   "metadata": {},
   "outputs": [
    {
     "data": {
      "image/png": "[encoded data removed]",
      "text/plain": [
       "<Figure size 432x288 with 1 Axes>"
      ]
     },
     "metadata": {
      "needs_background": "light"
     },
     "output_type": "display_data"
    }
   ],
   "source": [
    "noshowdata_new.groupby(['AppointmentDay','Diabetes'])['Age'].size().unstack().plot(kind='line',stacked=True)\n",
    "plt.ylabel('Count of Appointments')\n",
    "plt.show()"
   ]
  },
  {
   "cell_type": "code",
   "execution_count": 115,
   "metadata": {},
   "outputs": [
    {
     "data": {
      "image/png": "[encoded data removed]",
      "text/plain": [
       "<Figure size 432x288 with 1 Axes>"
      ]
     },
     "metadata": {
      "needs_background": "light"
     },
     "output_type": "display_data"
    }
   ],
   "source": [
    "noshowdata_new.groupby(['AppointmentDay','Alcoholism'])['Age'].size().unstack().plot(kind='line',stacked=True)\n",
    "plt.ylabel('Count of Appointments')\n",
    "plt.show()"
   ]
  },
  {
   "cell_type": "code",
   "execution_count": 98,
   "metadata": {},
   "outputs": [
    {
     "data": {
      "image/png": "[encoded data removed]",
      "text/plain": [
       "<Figure size 432x288 with 1 Axes>"
      ]
     },
     "metadata": {
      "needs_background": "light"
     },
     "output_type": "display_data"
    }
   ],
   "source": [
    "noshowdata_new.groupby(['AppointmentDay','Handicap'])['Age'].size().unstack().plot(kind='line',stacked=True)\n",
    "plt.show()"
   ]
  },
  {
   "cell_type": "markdown",
   "metadata": {},
   "source": [
    "From all the above observations, there is a sudden drop in the appointments on 15 May 2016."
   ]
  },
  {
   "cell_type": "markdown",
   "metadata": {},
   "source": [
    "# Conclusions\n",
    "\n",
    "#### Research 1) \n",
    "    Maximum patients have only one appointment, but there are some patients with more than one appointment.\n",
    "\n",
    "#### Research 2)\n",
    "    Genderwise there are more females than male.\n",
    "    1) Total number of gender\n",
    "    Gender: 110527\n",
    "\n",
    "    2) Total number of Male and Female\n",
    "    Male: 38687\n",
    "    Female: 71840\n",
    "\n",
    "    3) Total number of gender that show and not-show for the appointments\n",
    "    Number of show-ups\n",
    "    Male:  7725\n",
    "    Female: 14594\n",
    "\n",
    "    Number of No-show\n",
    "    Male: 30962\n",
    "    Female: 57246    \n",
    "\n",
    "    More number of females have no-show for appointments.        \n",
    "\n",
    "#### Research 3)\n",
    "    Boxplot overview on all aspects.\n",
    "\n",
    "#### Research 4)\n",
    "    There are total 81 neighbourhoods. Highest Appointments are from JARDIM CAMBURI Least Appointments from PARQUE INDUSTRIAL.        \n",
    "\n",
    "#### Research 5)\n",
    "    Least number of appoinments are on Saturday Maximum number of Appointments are on Monday, Tuesday and Wednesday Medium number of Appointments are on Thursday and Friday. There is a continuity in the male no-show even on saturday, whereas for female there is a dropdown.\n",
    "\n",
    "#### Research 6)\n",
    "    People with scholarship have no-show more for appointments.\n",
    "\n",
    "#### Research 7)\n",
    "    The result gives us exact number of male and female with no-show and patient type.\n",
    "    There are more of female no-show's with Diabetes & Hypertension\n",
    "\n",
    "#### Research 8)\n",
    "    The appointments decreases after the person crosses the age 70.\n",
    "\n",
    "#### Research 9)\n",
    "     There is a sudden drop in the appointments on 15 May 2016.   \n"
   ]
  },
  {
   "cell_type": "code",
   "execution_count": null,
   "metadata": {},
   "outputs": [],
   "source": []
  }
 ],
 "metadata": {
  "kernelspec": {
   "display_name": "Python 3",
   "language": "python",
   "name": "python3"
  },
  "language_info": {
   "codemirror_mode": {
    "name": "ipython",
    "version": 3
   },
   "file_extension": ".py",
   "mimetype": "text/x-python",
   "name": "python",
   "nbconvert_exporter": "python",
   "pygments_lexer": "ipython3",
   "version": "3.7.0"
  }
 },
 "nbformat": 4,
 "nbformat_minor": 2
}
